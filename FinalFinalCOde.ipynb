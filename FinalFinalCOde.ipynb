{
 "cells": [
  {
   "cell_type": "code",
   "execution_count": 147,
   "id": "2a03caa7",
   "metadata": {},
   "outputs": [],
   "source": [
    "import wfdb"
   ]
  },
  {
   "cell_type": "code",
   "execution_count": 148,
   "id": "cb264f9a",
   "metadata": {},
   "outputs": [],
   "source": [
    "import warnings\n",
    "warnings.filterwarnings('ignore')"
   ]
  },
  {
   "cell_type": "code",
   "execution_count": 149,
   "id": "3b9a578c",
   "metadata": {},
   "outputs": [],
   "source": [
    "fp = \"Data/tpehgt_n001\""
   ]
  },
  {
   "cell_type": "code",
   "execution_count": 150,
   "id": "b1452bf4",
   "metadata": {},
   "outputs": [
    {
     "data": {
      "text/plain": [
       "{'record_name': 'tpehgt_n001',\n",
       " 'n_sig': 8,\n",
       " 'fs': 20,\n",
       " 'counter_freq': None,\n",
       " 'base_counter': None,\n",
       " 'sig_len': 35300,\n",
       " 'base_time': None,\n",
       " 'base_date': None,\n",
       " 'comments': ['Comments:',\n",
       "  'RecID\\ttpehgt_n001',\n",
       "  'RecType Non-pregnant',\n",
       "  'Gestation N/A',\n",
       "  'Rectime N/A',\n",
       "  'Age None',\n",
       "  'Parity None',\n",
       "  'Abortions None',\n",
       "  'Weight None',\n",
       "  'Placental_position N/A',\n",
       "  'Smoker None'],\n",
       " 'sig_name': ['EHG1',\n",
       "  'EHG1_Butter-4-bi-0.08-5',\n",
       "  'EHG2',\n",
       "  'EHG2_Butter-4-bi-0.08-5',\n",
       "  'EHG3',\n",
       "  'EHG3_Butter-4-bi-0.08-5',\n",
       "  'TOCO',\n",
       "  'TOCO_Butter-4-bi-0.08-5'],\n",
       " 'p_signal': array([[ 0.02830549,  0.02143893,  0.06851301, ..., -0.10002289,\n",
       "         -0.33524071, -0.10131991],\n",
       "        [ 0.00953689,  0.01747158,  0.06134127, ..., -0.21568627,\n",
       "         -0.34409094, -0.21034562],\n",
       "        [ 0.00144961,  0.00709545,  0.0593576 , ..., -0.20149538,\n",
       "         -0.35194934, -0.21164263],\n",
       "        ...,\n",
       "        [-0.04707408,  0.01495384, -0.12062257, ...,  0.0015259 ,\n",
       "          0.00480659, -0.00061036],\n",
       "        [-0.05188067,  0.0374609 , -0.12054627, ...,  0.0093843 ,\n",
       "          0.0061799 , -0.00335698],\n",
       "        [-0.05111772,  0.05737392, -0.11970703, ...,  0.01464866,\n",
       "          0.00350958, -0.00556954]]),\n",
       " 'd_signal': None,\n",
       " 'e_p_signal': None,\n",
       " 'e_d_signal': None,\n",
       " 'file_name': ['tpehgt_n001.dat',\n",
       "  'tpehgt_n001.dat',\n",
       "  'tpehgt_n001.dat',\n",
       "  'tpehgt_n001.dat',\n",
       "  'tpehgt_n001.dat',\n",
       "  'tpehgt_n001.dat',\n",
       "  'tpehgt_n001.dat',\n",
       "  'tpehgt_n001.dat'],\n",
       " 'fmt': ['16', '16', '16', '16', '16', '16', '16', '16'],\n",
       " 'samps_per_frame': [1, 1, 1, 1, 1, 1, 1, 1],\n",
       " 'skew': [None, None, None, None, None, None, None, None],\n",
       " 'byte_offset': [None, None, None, None, None, None, None, None],\n",
       " 'adc_gain': [13107.0,\n",
       "  13107.0,\n",
       "  13107.0,\n",
       "  13107.0,\n",
       "  13107.0,\n",
       "  13107.0,\n",
       "  13107.0,\n",
       "  13107.0],\n",
       " 'baseline': [0, 0, 0, 0, 0, 0, 0, 0],\n",
       " 'units': ['mV', 'mV', 'mV', 'mV', 'mV', 'mV', 'mV', 'mV'],\n",
       " 'adc_res': [16, 16, 16, 16, 16, 16, 16, 16],\n",
       " 'adc_zero': [0, 0, 0, 0, 0, 0, 0, 0],\n",
       " 'init_value': [371, 281, 898, 543, -5261, -1311, -4394, -1328],\n",
       " 'checksum': [-386, 3666, -19553, 8172, -6722, -2605, -6741, -4946],\n",
       " 'block_size': [0, 0, 0, 0, 0, 0, 0, 0]}"
      ]
     },
     "execution_count": 150,
     "metadata": {},
     "output_type": "execute_result"
    }
   ],
   "source": [
    "x = wfdb.rdrecord(fp)\n",
    "x.__dict__"
   ]
  },
  {
   "cell_type": "code",
   "execution_count": 151,
   "id": "ef729d20",
   "metadata": {},
   "outputs": [
    {
     "data": {
      "text/plain": [
       "array([[ 0.02830549,  0.02143893,  0.06851301, ..., -0.10002289,\n",
       "        -0.33524071, -0.10131991],\n",
       "       [ 0.00953689,  0.01747158,  0.06134127, ..., -0.21568627,\n",
       "        -0.34409094, -0.21034562],\n",
       "       [ 0.00144961,  0.00709545,  0.0593576 , ..., -0.20149538,\n",
       "        -0.35194934, -0.21164263],\n",
       "       ...,\n",
       "       [-0.04707408,  0.01495384, -0.12062257, ...,  0.0015259 ,\n",
       "         0.00480659, -0.00061036],\n",
       "       [-0.05188067,  0.0374609 , -0.12054627, ...,  0.0093843 ,\n",
       "         0.0061799 , -0.00335698],\n",
       "       [-0.05111772,  0.05737392, -0.11970703, ...,  0.01464866,\n",
       "         0.00350958, -0.00556954]])"
      ]
     },
     "execution_count": 151,
     "metadata": {},
     "output_type": "execute_result"
    }
   ],
   "source": [
    "x.p_signal"
   ]
  },
  {
   "cell_type": "code",
   "execution_count": 152,
   "id": "f0a49610",
   "metadata": {},
   "outputs": [],
   "source": [
    "import os\n",
    "import glob\n",
    "folder_path = \"Data\\induced\\induced\\early_induced\"\n",
    "file_name_list = glob.glob(os.path.join(folder_path, \"*.dat\"))\n",
    "file_path = file_name_list[0][:-4]"
   ]
  },
  {
   "cell_type": "code",
   "execution_count": null,
   "id": "54e55148",
   "metadata": {},
   "outputs": [],
   "source": []
  },
  {
   "cell_type": "code",
   "execution_count": null,
   "id": "6aa5a49e",
   "metadata": {},
   "outputs": [],
   "source": []
  },
  {
   "cell_type": "code",
   "execution_count": null,
   "id": "224cf41e",
   "metadata": {},
   "outputs": [],
   "source": []
  },
  {
   "cell_type": "code",
   "execution_count": 153,
   "id": "26efcc85",
   "metadata": {},
   "outputs": [],
   "source": [
    "import os\n",
    "import glob\n",
    "import scipy.io\n",
    "\n",
    "folder_path = \"Final_dataset_term\"\n",
    "\n",
    "file_paths = glob.glob(os.path.join(folder_path, \"*.mat\"))\n",
    "\n",
    "signals=[]\n",
    "for file_path in file_paths:\n",
    "    data= scipy.io.loadmat(file_path)\n",
    "    signals.append(data)\n",
    "#     print(data)  # Example: Print the loaded data\n"
   ]
  },
  {
   "cell_type": "code",
   "execution_count": 154,
   "id": "a048b5fa",
   "metadata": {},
   "outputs": [
    {
     "data": {
      "text/plain": [
       "64"
      ]
     },
     "execution_count": 154,
     "metadata": {},
     "output_type": "execute_result"
    }
   ],
   "source": [
    "len(signals)"
   ]
  },
  {
   "cell_type": "code",
   "execution_count": 155,
   "id": "707fce40",
   "metadata": {},
   "outputs": [
    {
     "data": {
      "text/plain": [
       "{'__header__': b'MATLAB 5.0',\n",
       " '__version__': '1.0',\n",
       " '__globals__': [],\n",
       " 'val': array([[-3554, -3676, -3705, ...,  -345,  -342,  -324],\n",
       "        [  -29,  -262, -1030, ...,  -201,  -213,  -179],\n",
       "        [-1406, -1516, -1544, ...,   380,   389,   405],\n",
       "        [  -12,  -104,  -412, ...,  -378,  -379,  -354],\n",
       "        [ -684,  -583,  -557, ...,   -89,   -89,   -81],\n",
       "        [   -6,   -49,  -189, ...,   -36,   -28,   -46]], dtype=int16)}"
      ]
     },
     "execution_count": 155,
     "metadata": {},
     "output_type": "execute_result"
    }
   ],
   "source": [
    "signals[0]"
   ]
  },
  {
   "cell_type": "code",
   "execution_count": 156,
   "id": "e88668f3",
   "metadata": {},
   "outputs": [],
   "source": [
    "import numpy as np\n",
    "import pandas as pd"
   ]
  },
  {
   "cell_type": "code",
   "execution_count": null,
   "id": "e4aa73c9",
   "metadata": {},
   "outputs": [],
   "source": []
  },
  {
   "cell_type": "code",
   "execution_count": 157,
   "id": "3b828559",
   "metadata": {},
   "outputs": [],
   "source": [
    "Signal_data=[]\n",
    "for i in range(len(signals)):\n",
    "    s1=signals[i]['val'][1][:35000]\n",
    "    s2=signals[i]['val'][3][:35000]\n",
    "    s3=signals[i]['val'][5][:35000]\n",
    "    x=(s1+s2+s3)/3;\n",
    "    Signal_data.append(x)\n",
    "    \n",
    "Signal_data_arr=np.array(Signal_data)"
   ]
  },
  {
   "cell_type": "code",
   "execution_count": 158,
   "id": "1bbf4f1a",
   "metadata": {},
   "outputs": [
    {
     "data": {
      "text/plain": [
       "35000"
      ]
     },
     "execution_count": 158,
     "metadata": {},
     "output_type": "execute_result"
    }
   ],
   "source": [
    "min_shape=1e7\n",
    "for i in Signal_data:\n",
    "    min_shape=min(i.shape[0],min_shape)\n",
    "min_shape"
   ]
  },
  {
   "cell_type": "code",
   "execution_count": 159,
   "id": "60e78097",
   "metadata": {},
   "outputs": [
    {
     "data": {
      "text/plain": [
       "64"
      ]
     },
     "execution_count": 159,
     "metadata": {},
     "output_type": "execute_result"
    }
   ],
   "source": [
    "\n",
    "len(signals)"
   ]
  },
  {
   "cell_type": "code",
   "execution_count": 160,
   "id": "3c80f2e9",
   "metadata": {},
   "outputs": [
    {
     "data": {
      "text/plain": [
       "(64, 35000)"
      ]
     },
     "execution_count": 160,
     "metadata": {},
     "output_type": "execute_result"
    }
   ],
   "source": [
    "Signal_data_arr.shape"
   ]
  },
  {
   "cell_type": "markdown",
   "id": "cc5471ae",
   "metadata": {},
   "source": [
    "# Filtering (Band Pass .3-3Hz)"
   ]
  },
  {
   "cell_type": "code",
   "execution_count": 161,
   "id": "b90fc0d8",
   "metadata": {},
   "outputs": [],
   "source": [
    "import numpy as np\n",
    "import matplotlib.pyplot as plt\n",
    "from scipy.signal import butter, lfilter, freqz\n",
    "\n",
    "# Function to create a bandpass Butterworth filter\n",
    "def butter_bandpass(lowcut, highcut, fs, order=4):\n",
    "    nyquist = 0.5 * fs\n",
    "    low = lowcut / nyquist\n",
    "    high = highcut / nyquist\n",
    "    b, a = butter(order, [low, high], btype='band')\n",
    "    return b, a\n",
    "\n",
    "# Function to apply the bandpass filter to a signal\n",
    "def butter_bandpass_filter(data, lowcut, highcut, fs, order=4):\n",
    "    b, a = butter_bandpass(lowcut, highcut, fs, order=order)\n",
    "    y = lfilter(b, a, data)\n",
    "    return y\n",
    "\n",
    "# Example usage\n",
    "fs = 20  # Sampling frequency\n",
    "t = np.linspace(0, 5, 5 * fs, endpoint=False)  # Time vector\n",
    "# Define the bandpass filter parameters\n",
    "lowcut = 0.3  # Lower cutoff frequency in Hz\n",
    "highcut = 3.0  # Upper cutoff frequency in Hz\n",
    "order = 4  # Filter order\n",
    "\n",
    "\n",
    "filtered_signal_data=[]\n",
    "for i in range(len(signals)):\n",
    "    \n",
    "    filtered_signal = butter_bandpass_filter(Signal_data_arr[i], lowcut, highcut, fs, order)\n",
    "    filtered_signal_data.append(filtered_signal)\n",
    "# Plot the original and filtered signals\n",
    "# plt.figure(figsize=(10, 6))\n",
    "# plt.plot( signal, label='Original Signal')\n",
    "# plt.plot( filtered_signal, label='Filtered Signal')\n",
    "# plt.title('Bandpass Filter Applied to Signal')\n",
    "# plt.xlabel('Time (seconds)')\n",
    "# plt.ylabel('Amplitude')\n",
    "# plt.legend()\n",
    "# plt.show()\n"
   ]
  },
  {
   "cell_type": "code",
   "execution_count": 162,
   "id": "8803d46c",
   "metadata": {},
   "outputs": [
    {
     "data": {
      "text/plain": [
       "[<matplotlib.lines.Line2D at 0x1a7f5c009d0>]"
      ]
     },
     "execution_count": 162,
     "metadata": {},
     "output_type": "execute_result"
    },
    {
     "data": {
      "image/png": "[encoded data removed]",
      "text/plain": [
       "<Figure size 640x480 with 1 Axes>"
      ]
     },
     "metadata": {},
     "output_type": "display_data"
    }
   ],
   "source": [
    "plt.plot(filtered_signal_data[0])"
   ]
  },
  {
   "cell_type": "code",
   "execution_count": null,
   "id": "b35020a1",
   "metadata": {},
   "outputs": [],
   "source": []
  },
  {
   "cell_type": "markdown",
   "id": "40a7d5ca",
   "metadata": {},
   "source": [
    "# Cutting first and last 3 mins"
   ]
  },
  {
   "cell_type": "code",
   "execution_count": 163,
   "id": "b08f3627",
   "metadata": {},
   "outputs": [
    {
     "data": {
      "text/plain": [
       "27800"
      ]
     },
     "execution_count": 163,
     "metadata": {},
     "output_type": "execute_result"
    }
   ],
   "source": [
    "Cut_signal_data=[]\n",
    "fs=20\n",
    "for i in range(len(signals)):\n",
    "    cut_signal=filtered_signal_data[i][(3*60*fs):-(3*60*fs)]\n",
    "    Cut_signal_data.append(cut_signal)\n",
    "len(Cut_signal_data[0])"
   ]
  },
  {
   "cell_type": "code",
   "execution_count": 164,
   "id": "d58f8819",
   "metadata": {},
   "outputs": [
    {
     "data": {
      "text/plain": [
       "[<matplotlib.lines.Line2D at 0x1a7f71e3fd0>]"
      ]
     },
     "execution_count": 164,
     "metadata": {},
     "output_type": "execute_result"
    },
    {
     "data": {
      "image/png": "[encoded data removed]",
      "text/plain": [
       "<Figure size 640x480 with 1 Axes>"
      ]
     },
     "metadata": {},
     "output_type": "display_data"
    }
   ],
   "source": [
    "plt.plot(Cut_signal_data[0])"
   ]
  },
  {
   "cell_type": "code",
   "execution_count": 165,
   "id": "fdc98bde",
   "metadata": {},
   "outputs": [
    {
     "data": {
      "text/plain": [
       "[array([-30.76267869, -32.90425865, -27.56279447, ...,  25.26504373,\n",
       "         26.37964079,  19.16057291]),\n",
       " array([11.39407478, 12.3713968 , 15.09442797, ...,  9.26223995,\n",
       "        -1.33297223, -6.88584462]),\n",
       " array([36.89491546, 40.61688316, 45.29957655, ..., -2.16370404,\n",
       "         7.24487454, 16.69438067]),\n",
       " array([-25.16637053, -30.12251949, -37.6111002 , ..., -47.39297885,\n",
       "        -51.89782711, -60.73414751]),\n",
       " array([ 162.98559259,  152.71801274,  136.44500555, ..., -201.65998306,\n",
       "        -184.98870133, -154.37261882]),\n",
       " array([-15.17613076, -20.16996715, -22.72155429, ..., -11.50943914,\n",
       "        -13.21766415, -14.32194601]),\n",
       " array([-26.36552139, -31.23341218, -32.34868971, ...,   5.00825363,\n",
       "          8.01562007,   4.55849969]),\n",
       " array([-27.55593163, -23.92013111, -18.10369474, ...,  43.79613546,\n",
       "         34.50143314,  23.3861943 ]),\n",
       " array([-45.22314259, -38.70887539, -47.82517356, ...,   0.68089427,\n",
       "         -1.15937393,   1.19185807]),\n",
       " array([-32.18849837, -24.31327774, -27.28533162, ..., -44.42960019,\n",
       "        -28.33675168,  -5.11946269]),\n",
       " array([-10.03403062, -15.22486276, -15.69884524, ...,  26.0841478 ,\n",
       "         26.74214994,  28.04842222]),\n",
       " array([  -1.5676322 ,  -46.15996381,  -87.82777904, ..., -106.96209408,\n",
       "        -113.81182788, -116.10623901]),\n",
       " array([-22.86814668, -15.91554372,  -3.17975145, ...,  39.76461581,\n",
       "         60.12249785,  76.63931822]),\n",
       " array([  0.59484555,  -3.18590899, -10.15080653, ..., -29.67251627,\n",
       "        -25.37391703, -23.56330973]),\n",
       " array([ 24.20174348,  27.7547796 ,  31.55010733, ...,   3.9503703 ,\n",
       "         -4.181512  , -13.63518252]),\n",
       " array([  6.31665411,   4.05856399,   3.17216343, ...,   5.03927279,\n",
       "         -4.65825952, -16.82912153]),\n",
       " array([ 13.31349696,  -5.52111259, -26.0253672 , ...,  30.76642645,\n",
       "         32.60732265,  36.45712139]),\n",
       " array([-21.13267392, -21.51791477, -23.21827791, ..., 144.97068805,\n",
       "        138.72837769, 128.02256251]),\n",
       " array([ 93.06017175, 104.18215637, 109.30586983, ..., -46.4204189 ,\n",
       "        -42.68964563, -46.18518006]),\n",
       " array([85.77465865, 65.94538073, 50.44279496, ..., 76.41687816,\n",
       "        64.46275181, 62.21063797]),\n",
       " array([-13.08188369, -14.30503308,  -9.0860743 , ...,  -2.36419159,\n",
       "         -0.52251137,   2.78879913]),\n",
       " array([21.7012095 , 22.45505143, 23.12917703, ..., 47.02175583,\n",
       "        48.14525199, 51.35532434]),\n",
       " array([-48.15276874, -33.69323902,  -9.74036399, ..., 161.02938893,\n",
       "        133.29285043, 109.74614598]),\n",
       " array([ 28.57000752,  39.47585123,  45.55138397, ..., -84.24546515,\n",
       "        -55.04889871, -31.76747138]),\n",
       " array([ 82.30013353,  53.06730071,  33.24916118, ..., -42.11801071,\n",
       "         -3.73863517,  30.10696926]),\n",
       " array([-53.73748045, -32.33280434, -10.38091966, ..., -57.89141536,\n",
       "        -47.19013801, -39.74089062]),\n",
       " array([60.20056617, 60.73757006, 53.07727291, ...,  1.7780157 ,\n",
       "        -0.69292546, -3.95824552]),\n",
       " array([ -8.82563788, -13.17839309, -16.06662469, ...,   5.55899519,\n",
       "         11.51551661,  11.5718138 ]),\n",
       " array([-27.63788283, -28.17462271, -28.34941189, ...,  13.66628043,\n",
       "         18.68106825,  21.36356495]),\n",
       " array([ -3.5855515 ,  -4.02187004,  -7.89949433, ..., -23.83695119,\n",
       "        -19.06534729,  -8.02467586]),\n",
       " array([31.41701277, 35.35477931, 41.96967569, ..., 33.0749155 ,\n",
       "        32.11756275, 31.58014092]),\n",
       " array([-42.32371992, -49.7438056 , -57.70219686, ..., -43.64842069,\n",
       "        -49.38041599, -58.60291245]),\n",
       " array([ -4.04902571,   3.41374903,   9.32762344, ..., -20.83386355,\n",
       "         -8.64139962,  12.21452063]),\n",
       " array([-20.29416594, -22.73113222, -22.0662638 , ..., -24.34760608,\n",
       "        -16.28511418,  -9.34466636]),\n",
       " array([-31.88761207, -25.27283741, -14.9006589 , ...,  62.55156236,\n",
       "         44.86055954,  20.86328632]),\n",
       " array([-37.72955712, -38.13766295, -32.75096521, ...,  26.1777675 ,\n",
       "         28.94425547,  25.73135653]),\n",
       " array([ -4.96260283,  -3.29881596, -10.09641637, ...,  47.75547103,\n",
       "         47.02832803,  38.22772555]),\n",
       " array([29.9951336 , 23.94200457, 12.40496091, ...,  5.09408351,\n",
       "        27.03963867, 49.67925204]),\n",
       " array([ -6.47473205,  -9.00667418, -13.09548933, ...,  14.51321445,\n",
       "         20.18045418,  22.25206886]),\n",
       " array([-14.68842642, -43.81047253, -69.8325536 , ...,   9.98788692,\n",
       "          9.91008357,   6.66331596]),\n",
       " array([ 160.52748324,  159.91335532,  164.35996658, ..., -145.18979488,\n",
       "        -133.58308447, -115.95282488]),\n",
       " array([ 49.30055838,  38.0887434 ,  29.52079667, ..., -22.64482788,\n",
       "        -33.64124388, -40.70759282]),\n",
       " array([-52.99232556, -46.00470729, -37.31926952, ...,  56.38270732,\n",
       "         67.54620728,  73.21909466]),\n",
       " array([ -6.31617838,  -7.25537621, -10.00189355, ...,  14.66020223,\n",
       "         10.75086734,   3.30016675]),\n",
       " array([-0.2222021 ,  6.32254067, 13.47416182, ..., 18.10703723,\n",
       "        37.12226357, 53.50906558]),\n",
       " array([ -3.45158172,  18.91547741,  42.12548789, ..., -38.93564392,\n",
       "        -45.71362582, -53.82762135]),\n",
       " array([-22.30387094, -25.72026655, -31.19884432, ..., -37.98994018,\n",
       "        -38.60357822, -36.27964206]),\n",
       " array([15.39989172,  7.83337536,  0.9154698 , ..., 19.88776436,\n",
       "        14.6763054 ,  7.54827789]),\n",
       " array([ -5.90655233,   2.84195122,   5.06550249, ..., -31.32191427,\n",
       "        -26.81865946, -17.77979342]),\n",
       " array([20.88621883, 18.52956097, 14.66345761, ...,  7.46038832,\n",
       "        14.07147536, 17.38449795]),\n",
       " array([17.25984814, 11.45515178,  9.2089506 , ..., 15.99497749,\n",
       "        10.39755022,  2.12539642]),\n",
       " array([-12.8008788 ,   1.51838251,  13.72701388, ...,   1.62623072,\n",
       "          2.4864679 ,   7.64690932]),\n",
       " array([12.8763548 ,  6.30745544,  0.6108411 , ..., 43.78568516,\n",
       "        49.5030179 , 52.5856679 ]),\n",
       " array([-34.12104749, -37.88173488, -44.02999567, ...,  29.26193097,\n",
       "         48.01730464,  41.53735373]),\n",
       " array([ 38.73084681,  24.8761752 ,  25.24767102, ..., -26.01637618,\n",
       "        -20.02429609, -21.10947122]),\n",
       " array([ 17.67197022,  14.08586405,   9.5741404 , ..., -62.28631455,\n",
       "        -70.19657915, -74.76720608]),\n",
       " array([-32.84686448, -24.52305877, -12.36315114, ...,  11.86446022,\n",
       "         11.85225289,  15.09818731]),\n",
       " array([-17.41997023, -24.42618851, -28.47122625, ..., -35.8641115 ,\n",
       "        -34.82767451, -35.5424067 ]),\n",
       " array([-10.29452438, -18.99524583, -22.87587912, ...,  34.21982419,\n",
       "         33.48910247,  30.67371616]),\n",
       " array([-92.80404621, -69.18827218, -37.09442694, ...,  93.34525281,\n",
       "         92.86660711,  86.89439295]),\n",
       " array([  0.76636425,   3.74786394,   6.61831686, ..., -32.69956195,\n",
       "        -45.60976573, -59.12130575]),\n",
       " array([-32.6744908 , -20.15890868,  -7.64298844, ...,  -1.47763134,\n",
       "         -5.42164673,  -6.89614745]),\n",
       " array([-57.31155779, -49.4504337 , -44.19156803, ...,   4.88864377,\n",
       "          8.96016195,  10.96293272]),\n",
       " array([ 84.60854599,  76.2719311 ,  59.8122268 , ...,  23.55589935,\n",
       "          3.29303948, -29.75096104])]"
      ]
     },
     "execution_count": 165,
     "metadata": {},
     "output_type": "execute_result"
    }
   ],
   "source": [
    "Cut_signal_data\n"
   ]
  },
  {
   "cell_type": "markdown",
   "id": "691452e2",
   "metadata": {},
   "source": [
    "# Feature Extraction:"
   ]
  },
  {
   "cell_type": "code",
   "execution_count": 166,
   "id": "a7d1b73b",
   "metadata": {},
   "outputs": [],
   "source": [
    "import numpy as np\n",
    "from scipy.stats import entropy\n",
    "from PyEMD import EMD\n",
    "\n",
    "# Assuming 'signal' is your EHG signal\n",
    "\n",
    "# Fractal Dimension (using Higuchi's method)\n",
    "def fractal_dimension(signal):\n",
    "    n = len(signal)\n",
    "    k_max = 10  # Maximum scale\n",
    "    Lmk = np.zeros(k_max)\n",
    "\n",
    "    for k in range(1, k_max + 1):\n",
    "        Lm = 0\n",
    "        for m in range(1, k + 1):\n",
    "            # Calculate the length of the curve\n",
    "            Lmk_sum = np.sum(np.abs(np.diff(signal[::m])))\n",
    "            Lm += Lmk_sum * (n - 1) / ((n - 1) / m)\n",
    "        Lm /= k\n",
    "        Lmk[k - 1] = np.log(Lm)\n",
    "\n",
    "    fit = np.polyfit(np.log(np.arange(1, k_max + 1)), Lmk, 1)\n",
    "    return fit[0]\n"
   ]
  },
  {
   "cell_type": "code",
   "execution_count": 167,
   "id": "619fa915",
   "metadata": {},
   "outputs": [],
   "source": [
    "from scipy.sparse import lil_matrix\n",
    "\n",
    "def fuzzy_entropy(signal, m=2, r=0.2):\n",
    "    # Ensure the signal is a NumPy array\n",
    "    signal = np.array(signal)\n",
    "\n",
    "    # Number of data points in the signal\n",
    "    N = len(signal)\n",
    "\n",
    "    # Initialize sparse matrices for similarity counting\n",
    "    similarity_matrix_1 = lil_matrix((N - m + 1, N - m + 1), dtype=bool)\n",
    "    similarity_matrix_2 = lil_matrix((N - m, N - m), dtype=bool)\n",
    "\n",
    "    # Populate the sparse matrices\n",
    "    for i in range(N - m + 1):\n",
    "        for j in range(i, N - m + 1):\n",
    "            dist = np.linalg.norm(signal[i:i+m] - signal[j:j+m])\n",
    "            similarity_matrix_1[i, j] = (dist <= r)\n",
    "            similarity_matrix_1[j, i] = similarity_matrix_1[i, j]\n",
    "\n",
    "    for i in range(N - m):\n",
    "        for j in range(i, N - m):\n",
    "            dist = np.linalg.norm(signal[i:i+m+1] - signal[j:j+m+1])\n",
    "            similarity_matrix_2[i, j] = (dist <= r)\n",
    "            similarity_matrix_2[j, i] = similarity_matrix_2[i, j]\n",
    "\n",
    "    # Calculate fuzzy entropy\n",
    "    phi_m_r_1 = similarity_matrix_1.sum() / ((N - m + 1) * (N - m))\n",
    "    phi_m_r_2 = similarity_matrix_2.sum() / ((N - m) * (N - m - 1))\n",
    "\n",
    "    fuzzy_entropy = -np.log(phi_m_r_1 / phi_m_r_2)\n",
    "\n",
    "    return fuzzy_entropy"
   ]
  },
  {
   "cell_type": "code",
   "execution_count": 168,
   "id": "60ca25b0",
   "metadata": {},
   "outputs": [],
   "source": [
    "def interquartile_range(signal):\n",
    "    return np.percentile(signal, 75) - np.percentile(signal, 25)\n",
    "\n",
    "# Mean Absolute Deviation\n",
    "def mean_absolute_deviation(signal):\n",
    "    return np.mean(np.abs(signal - np.mean(signal)))\n",
    "\n",
    "# Mean Energy\n",
    "def mean_energy(signal):\n",
    "    return np.mean(np.square(signal))\n",
    "\n",
    "# Mean Teager-Kaiser Energy\n",
    "def mean_teager_kaiser_energy(signal):\n",
    "    return np.mean(np.square(signal[1:-1]) - signal[:-2] * signal[2:])\n",
    "\n",
    "\n",
    "# Standard Deviation\n",
    "def standard_deviation(signal):\n",
    "    return np.std(signal)\n"
   ]
  },
  {
   "cell_type": "code",
   "execution_count": 169,
   "id": "e2791780",
   "metadata": {},
   "outputs": [],
   "source": [
    "def sample_entropy(signal, m=2, r=0.2):\n",
    "    # Ensure the signal is a NumPy array\n",
    "    signal = np.array(signal)\n",
    "\n",
    "    # Number of data points in the signal\n",
    "    N = len(signal)\n",
    "\n",
    "    # Function to calculate the maximum distance between vectors of length m\n",
    "    def max_distance(subseq1, subseq2):\n",
    "        return max(np.abs(subseq1[i] - subseq2[i]) for i in range(m))\n",
    "\n",
    "    # Count similar patterns for the original signal\n",
    "    similar_patterns_orig = 0\n",
    "    for i in range(N - m):\n",
    "        for j in range(i + 1, N - m):\n",
    "            dist = max_distance(signal[i:i+m], signal[j:j+m])\n",
    "            if dist <= r:\n",
    "                similar_patterns_orig += 1\n",
    "\n",
    "    # Count similar patterns for the signal with an additional point\n",
    "    similar_patterns_new = 0\n",
    "    for i in range(N - m - 1):\n",
    "        for j in range(i + 1, N - m - 1):\n",
    "            dist = max_distance(signal[i:i+m+1], signal[j:j+m+1])\n",
    "            if dist <= r:\n",
    "                similar_patterns_new += 1\n",
    "\n",
    "    # Calculate sample entropy\n",
    "    sample_entropy = -np.log((similar_patterns_orig + 1e-10) / (similar_patterns_new + 1e-10))\n",
    "\n",
    "    return sample_entropy\n"
   ]
  },
  {
   "cell_type": "code",
   "execution_count": 170,
   "id": "b2bf90da",
   "metadata": {},
   "outputs": [],
   "source": [
    "\n",
    "import numpy as np\n",
    "\n",
    "def box_count(data, epsilon):\n",
    "    data_min = np.min(data)\n",
    "    data_max = np.max(data)\n",
    "    num_boxes = int((data_max - data_min) / epsilon)\n",
    "    count = 0\n",
    "    for i in range(num_boxes):\n",
    "        box_start = data_min + i * epsilon\n",
    "        box_end = box_start + epsilon\n",
    "        box_data = data[(data >= box_start) & (data < box_end)]\n",
    "        if len(box_data) > 0:\n",
    "            count += 1\n",
    "    return count\n",
    "\n",
    "def fractal_dimension(data, epsilon_min=0.9, epsilon_max=5, num_epsilon=10):\n",
    "    epsilon_values = np.linspace(epsilon_min, epsilon_max, num_epsilon)\n",
    "    counts = []\n",
    "\n",
    "    for epsilon in epsilon_values:\n",
    "        count = box_count(data, epsilon)\n",
    "        counts.append(count)\n",
    "\n",
    "    # Filter out zero counts\n",
    "    epsilon_values = epsilon_values[np.array(counts) > 0]\n",
    "    counts = np.array(counts)[np.array(counts) > 0]\n",
    "\n",
    "    if len(epsilon_values) == 0 or len(counts) == 0:\n",
    "        return None\n",
    "\n",
    "    # Fit a linear regression to estimate the fractal dimension\n",
    "    coeffs = np.polyfit(np.log(epsilon_values), np.log(counts), 1)\n",
    "    fractal_dim = -coeffs[0]\n",
    "\n",
    "    return fractal_dim\n",
    "\n",
    "# # Example usage:\n",
    "# if __name__ == \"__main__\":\n",
    "#     data = np.random.rand(1000)\n",
    "#     epsilon_min = 0.01\n",
    "#     epsilon_max = 0.5\n",
    "#     num_epsilon = 20\n",
    "#     fractal_dim = fractal_dimension(data, epsilon_min, epsilon_max, num_epsilon)\n",
    "#     print(\"Fractal dimension:\", fractal_dim)\n"
   ]
  },
  {
   "cell_type": "code",
   "execution_count": 171,
   "id": "0efb0eaf",
   "metadata": {},
   "outputs": [],
   "source": [
    "# import numpy as np\n",
    "# from scipy.stats import entropy\n",
    "# from PyEMD import EMD\n",
    "# import pywt\n",
    "\n",
    "# # Define functions for feature calculation\n",
    "# def fractal_dimension(signal):\n",
    "#     # Implement fractal dimension calculation\n",
    "#     pass\n",
    "\n",
    "# def fuzzy_entropy(signal):\n",
    "#     # Implement fuzzy entropy calculation\n",
    "#     pass\n",
    "\n",
    "# def interquartile_range(signal):\n",
    "#     return np.percentile(signal, 75) - np.percentile(signal, 25)\n",
    "\n",
    "# def mean_absolute_deviation(signal):\n",
    "#     return np.mean(np.abs(signal - np.mean(signal)))\n",
    "\n",
    "# def mean_energy(signal):\n",
    "#     return np.mean(np.square(signal))\n",
    "\n",
    "# def mean_teager_kaiser_energy(signal):\n",
    "#     return np.mean(np.square(np.diff(signal)))\n",
    "\n",
    "# def sample_entropy(signal):\n",
    "#     # Implement sample entropy calculation\n",
    "#     pass\n",
    "\n",
    "# def standard_deviation(signal):\n",
    "#     return np.std(signal)\n",
    "\n",
    "# # Define a function to perform Wavelet Packet Decomposition (WPD)\n",
    "# def perform_wpd(signal, level):\n",
    "#     # Choose a wavelet (e.g., 'db1' for Daubechies wavelet)\n",
    "#     wavelet = 'db8'\n",
    "\n",
    "#     # Perform WPD using pywt.wavedec\n",
    "#     coeffs = pywt.wavedec(signal, wavelet, level=level)\n",
    "\n",
    "#     # Select a subset of coefficients for further processing\n",
    "#     selected_coeffs = coeffs[1:]  # Exclude the approximation coefficients at level 0\n",
    "\n",
    "#     return selected_coeffs\n",
    "\n",
    "# Signal_feature_data=[]\n",
    "\n",
    "# for i in range(len(signals)):\n",
    "#     # Assuming 'signal' is the EHG signal\n",
    "#     signal = Cut_signal_data[i]  # Example signal\n",
    "#     levels = 5   # Example number of decomposition levels\n",
    "\n",
    "#     # Initialize lists to store features\n",
    "#     features = []\n",
    "\n",
    "#     # Initialize EMD for IMF extraction\n",
    "#     emd = EMD()\n",
    "\n",
    "#     # Perform EMD on the signal\n",
    "#     imfs = emd(signal)\n",
    "\n",
    "#     # Perform WPD on each IMF and extract features\n",
    "#     for imf in imfs:\n",
    "#         # Perform WPD and select coefficients\n",
    "#         wpd_coeffs = []  # Store selected WPD coefficients here\n",
    "#         for level in range(levels):\n",
    "#             selected_coeffs = perform_wpd(imf, level)\n",
    "#             wpd_coeffs.extend(selected_coeffs)\n",
    "\n",
    "#         # Calculate features for each coefficient\n",
    "#         for coeff in wpd_coeffs:\n",
    "#             features.append([\n",
    "#                 fractal_dimension(coeff),   #                # Fractal Dimension\n",
    "#                 fuzzy_entropy(coeff),     #                 # Fuzzy Entropy\n",
    "#                 interquartile_range(coeff),                # Interquartile Range\n",
    "#                 mean_absolute_deviation(coeff),            # Mean Absolute Deviation\n",
    "#                 mean_energy(coeff),                        # Mean Energy\n",
    "#                 mean_teager_kaiser_energy(coeff),          # Mean Teager-Kaiser Energy\n",
    "#                 sample_entropy(coeff),  #                   # Sample Entropy\n",
    "#                 standard_deviation(coeff),                 # Standard Deviation\n",
    "#             ])\n",
    "#     Signal_feature_data.append(features)\n",
    "\n",
    "# # 'features' now contains the extracted features from EMD and WPD\n"
   ]
  },
  {
   "cell_type": "code",
   "execution_count": 172,
   "id": "818db453",
   "metadata": {},
   "outputs": [],
   "source": [
    "\n",
    "\n",
    "# def fuzzy_entropy(data, m=2, r=0.15):\n",
    "#     \"\"\"\n",
    "#     Compute the fuzzy entropy of a 1D array of data.\n",
    "\n",
    "#     Parameters:\n",
    "#     - data: 1D array, input data\n",
    "#     - m: int, embedding dimension (length of sequences to compare)\n",
    "#     - r: float, tolerance range\n",
    "\n",
    "#     Returns:\n",
    "#     - fuzzy_entropy: float, fuzzy entropy value\n",
    "#     \"\"\"\n",
    "#     N = len(data)\n",
    "\n",
    "#     # Create embedding matrix\n",
    "#     embedded_data = np.array([data[i:i+m] for i in range(N-m+1)])\n",
    "\n",
    "#     # Calculate distance matrix\n",
    "#     distance_matrix = np.zeros((len(embedded_data), len(embedded_data)))\n",
    "#     for i in range(len(embedded_data)):\n",
    "#         for j in range(len(embedded_data)):\n",
    "#             distance_matrix[i, j] = max(np.abs(embedded_data[i] - embedded_data[j]))\n",
    "\n",
    "#     # Calculate similarity matrix\n",
    "#     similarity_matrix = np.zeros_like(distance_matrix)\n",
    "#     for i in range(len(distance_matrix)):\n",
    "#         for j in range(len(distance_matrix)):\n",
    "#             if distance_matrix[i, j] <= r:\n",
    "#                 similarity_matrix[i, j] = 1\n",
    "\n",
    "#     # Compute probabilities\n",
    "#     p_i = np.sum(similarity_matrix, axis=1) / (N - m + 1)\n",
    "\n",
    "#     # Remove zeros to prevent NaN in the calculation\n",
    "#     p_i = p_i[p_i > 0]\n",
    "\n",
    "#     # Calculate fuzzy entropy\n",
    "#     fuzzy_entropy = -np.log(np.mean(p_i))\n",
    "\n",
    "#     return fuzzy_entropy\n",
    "\n",
    "# def sample_entropy(data, m=3, r=0.05):\n",
    "#     \"\"\"\n",
    "#     Compute the sample entropy of a 1D array of data.\n",
    "\n",
    "#     Parameters:\n",
    "#     - data: 1D array, input data\n",
    "#     - m: int, embedding dimension (length of sequences to compare)\n",
    "#     - r: float, tolerance range\n",
    "\n",
    "#     Returns:\n",
    "#     - sample_entropy: float, sample entropy value\n",
    "#     \"\"\"\n",
    "#     N = len(data)\n",
    "\n",
    "#     # Create embedding matrix\n",
    "#     embedded_data = np.array([data[i:i+m] for i in range(N-m+1)])\n",
    "\n",
    "#     # Calculate distance matrix\n",
    "#     distance_matrix = np.zeros((len(embedded_data), len(embedded_data)))\n",
    "#     for i in range(len(embedded_data)):\n",
    "#         for j in range(len(embedded_data)):\n",
    "#             distance_matrix[i, j] = max(np.abs(embedded_data[i] - embedded_data[j]))\n",
    "\n",
    "#     # Count similar sequences\n",
    "#     similar_sequences = np.sum(distance_matrix <= r, axis=1) - 1  # Subtract 1 to exclude self-matches\n",
    "\n",
    "#     # Compute sample entropy\n",
    "#     sample_entropy = -np.log(np.mean(similar_sequences) / (N - m + 1))\n",
    "\n",
    "#     return sample_entropy\n",
    "\n"
   ]
  },
  {
   "cell_type": "code",
   "execution_count": 173,
   "id": "99854adc",
   "metadata": {},
   "outputs": [],
   "source": [
    "from pyentrp import entropy as ent\n",
    "def sample_entropy(signal):\n",
    "    std_ts = np.std(signal)\n",
    "    sample_entropy = ent.sample_entropy(signal, 4, 0.2 * std_ts)\n",
    "    return sample_entropy\n",
    "def fuzzy_entropy(signal):\n",
    "    fuzzy_entropy_value = ent.shannon_entropy(signal)\n",
    "    return fuzzy_entropy_value\n"
   ]
  },
  {
   "cell_type": "code",
   "execution_count": 174,
   "id": "d32cb7d6",
   "metadata": {},
   "outputs": [],
   "source": [
    "import numpy as np\n",
    "from scipy.stats import entropy\n",
    "import pywt\n",
    "\n",
    "# Define functions for feature calculation\n",
    "# def fractal_dimension(signal):\n",
    "#     # Implement fractal dimension calculation\n",
    "#     pass\n",
    "\n",
    "# def fuzzy_entropy(signal):\n",
    "#     # Implement fuzzy entropy calculation\n",
    "#     pass\n",
    "\n",
    "def interquartile_range(signal):\n",
    "    return np.percentile(signal, 75) - np.percentile(signal, 25)\n",
    "\n",
    "def mean_absolute_deviation(signal):\n",
    "    return np.mean(np.abs(signal - np.mean(signal)))\n",
    "\n",
    "def mean_energy(signal):\n",
    "    return np.mean(np.square(signal))\n",
    "\n",
    "def mean_teager_kaiser_energy(signal):\n",
    "    return np.mean(np.square(np.diff(signal)))\n",
    "\n",
    "# def sample_entropy(signal):\n",
    "#     # Implement sample entropy calculation\n",
    "#     pass\n",
    "\n",
    "def standard_deviation(signal):\n",
    "    return np.std(signal)\n",
    "\n",
    "# Define a function to perform Discrete Wavelet Transform (DWT)\n",
    "def perform_dwt(signal, wavelet, level):\n",
    "    # Perform DWT using pywt.wavedec\n",
    "    coeffs = pywt.wavedec(signal, wavelet, level=level)\n",
    "    return coeffs\n",
    "def perform_wpd(signal, level):\n",
    "    # Choose a wavelet (e.g., 'db1' for Daubechies wavelet)\n",
    "    wavelet = 'db8'\n",
    "\n",
    "    # Perform WPD using pywt.wavedec\n",
    "    coeffs = pywt.wavedec(signal, wavelet, level=level)\n",
    "\n",
    "    # Select a subset of coefficients for further processing\n",
    "    selected_coeffs = coeffs[1:]  # Exclude the approximation coefficients at level 0\n",
    "\n",
    "    return selected_coeffs\n",
    "\n",
    "\n",
    "Signal_feature_data = []\n",
    "\n",
    "# Define the wavelet to be used for DWT\n",
    "wavelet = 'db4'  # Example wavelet, you can choose according to your requirements\n",
    "levels = 5        # Example number of decomposition levels\n",
    "\n",
    "for i in range(len(signals)):\n",
    "    # Assuming 'signal' is the EHG signal\n",
    "    signal = Cut_signal_data[i]  # Example signal\n",
    "\n",
    "    # Initialize lists to store features\n",
    "    features = []\n",
    "\n",
    "    # Perform DWT on the signal\n",
    "    coeffs = perform_dwt(signal, wavelet, level=levels)\n",
    "\n",
    "    # Perform WPD on each IMF and extract features\n",
    "    for imf in coeffs:\n",
    "        # Perform WPD and select coefficients\n",
    "        wpd_coeffs = []  # Store selected WPD coefficients here\n",
    "        for level in range(levels):\n",
    "            selected_coeffs = perform_wpd(imf, level)\n",
    "            wpd_coeffs.extend(selected_coeffs)\n",
    "\n",
    "        # Calculate features for each coefficient\n",
    "        for coeff in wpd_coeffs:\n",
    "            features.append([\n",
    "                fractal_dimension(coeff),   #                # Fractal Dimension\n",
    "                fuzzy_entropy(coeff),     #                 # Fuzzy Entropy\n",
    "                interquartile_range(coeff),                # Interquartile Range\n",
    "                mean_absolute_deviation(coeff),            # Mean Absolute Deviation\n",
    "                mean_energy(coeff),                        # Mean Energy\n",
    "                mean_teager_kaiser_energy(coeff),          # Mean Teager-Kaiser Energy\n",
    "                sample_entropy(coeff),  #                   # Sample Entropy\n",
    "                standard_deviation(coeff),                 # Standard Deviation\n",
    "            ])\n",
    "    Signal_feature_data.append(features)\n",
    "\n",
    "# 'features' now contains the extracted features from DWT\n"
   ]
  },
  {
   "cell_type": "code",
   "execution_count": 175,
   "id": "9f6f30e7",
   "metadata": {},
   "outputs": [
    {
     "data": {
      "text/plain": [
       "64"
      ]
     },
     "execution_count": 175,
     "metadata": {},
     "output_type": "execute_result"
    }
   ],
   "source": [
    "len(Signal_feature_data)"
   ]
  },
  {
   "cell_type": "code",
   "execution_count": 179,
   "id": "388537a9",
   "metadata": {},
   "outputs": [],
   "source": [
    "# for i in range(64):\n",
    "#     print(f\"Signal no: {i}--->{Signal_feature_data[i]}\")\n",
    "#     print()"
   ]
  },
  {
   "cell_type": "code",
   "execution_count": 183,
   "id": "5eb7b71d",
   "metadata": {},
   "outputs": [],
   "source": [
    "dset = []\n",
    "for i in Signal_feature_data:\n",
    "    temp_df = pd.DataFrame(i)\n",
    "    \n",
    "    # Compute the mean for each row (along axis 1)\n",
    "    col_means = temp_df.mean(axis=0)\n",
    "    \n",
    "    # Append the row means to the dataset\n",
    "    dset.append(col_means)\n",
    "\n",
    "# Convert the dataset to a DataFrame\n",
    "dset_df = pd.DataFrame(dset)"
   ]
  },
  {
   "cell_type": "code",
   "execution_count": 188,
   "id": "32086bf4",
   "metadata": {},
   "outputs": [
    {
     "data": {
      "text/html": [
       "<div>\n",
       "<style scoped>\n",
       "    .dataframe tbody tr th:only-of-type {\n",
       "        vertical-align: middle;\n",
       "    }\n",
       "\n",
       "    .dataframe tbody tr th {\n",
       "        vertical-align: top;\n",
       "    }\n",
       "\n",
       "    .dataframe thead th {\n",
       "        text-align: right;\n",
       "    }\n",
       "</style>\n",
       "<table border=\"1\" class=\"dataframe\">\n",
       "  <thead>\n",
       "    <tr style=\"text-align: right;\">\n",
       "      <th></th>\n",
       "      <th>0</th>\n",
       "      <th>1</th>\n",
       "      <th>2</th>\n",
       "      <th>3</th>\n",
       "      <th>4</th>\n",
       "      <th>5</th>\n",
       "      <th>7</th>\n",
       "    </tr>\n",
       "  </thead>\n",
       "  <tbody>\n",
       "    <tr>\n",
       "      <th>0</th>\n",
       "      <td>0.729785</td>\n",
       "      <td>9.481513</td>\n",
       "      <td>78.096979</td>\n",
       "      <td>47.917477</td>\n",
       "      <td>8536.806538</td>\n",
       "      <td>12045.004074</td>\n",
       "      <td>62.165351</td>\n",
       "    </tr>\n",
       "    <tr>\n",
       "      <th>1</th>\n",
       "      <td>0.772712</td>\n",
       "      <td>9.481513</td>\n",
       "      <td>39.079069</td>\n",
       "      <td>29.226391</td>\n",
       "      <td>4598.073411</td>\n",
       "      <td>6801.270433</td>\n",
       "      <td>42.928722</td>\n",
       "    </tr>\n",
       "    <tr>\n",
       "      <th>2</th>\n",
       "      <td>0.692439</td>\n",
       "      <td>9.481513</td>\n",
       "      <td>76.970032</td>\n",
       "      <td>56.515543</td>\n",
       "      <td>17467.905148</td>\n",
       "      <td>23601.993429</td>\n",
       "      <td>82.026670</td>\n",
       "    </tr>\n",
       "    <tr>\n",
       "      <th>3</th>\n",
       "      <td>0.580331</td>\n",
       "      <td>9.481513</td>\n",
       "      <td>100.174934</td>\n",
       "      <td>75.261307</td>\n",
       "      <td>26650.225084</td>\n",
       "      <td>38662.925824</td>\n",
       "      <td>114.752481</td>\n",
       "    </tr>\n",
       "    <tr>\n",
       "      <th>4</th>\n",
       "      <td>0.723652</td>\n",
       "      <td>9.481513</td>\n",
       "      <td>38.036466</td>\n",
       "      <td>33.701496</td>\n",
       "      <td>9519.245430</td>\n",
       "      <td>20018.988340</td>\n",
       "      <td>62.470037</td>\n",
       "    </tr>\n",
       "    <tr>\n",
       "      <th>5</th>\n",
       "      <td>0.731981</td>\n",
       "      <td>9.481513</td>\n",
       "      <td>54.513911</td>\n",
       "      <td>37.214001</td>\n",
       "      <td>5608.800175</td>\n",
       "      <td>9584.216913</td>\n",
       "      <td>51.423406</td>\n",
       "    </tr>\n",
       "    <tr>\n",
       "      <th>6</th>\n",
       "      <td>0.750954</td>\n",
       "      <td>9.481513</td>\n",
       "      <td>44.617979</td>\n",
       "      <td>26.816248</td>\n",
       "      <td>2936.862019</td>\n",
       "      <td>2953.956823</td>\n",
       "      <td>35.104649</td>\n",
       "    </tr>\n",
       "    <tr>\n",
       "      <th>7</th>\n",
       "      <td>0.628107</td>\n",
       "      <td>9.481513</td>\n",
       "      <td>63.808282</td>\n",
       "      <td>46.237852</td>\n",
       "      <td>11816.186674</td>\n",
       "      <td>15221.848046</td>\n",
       "      <td>66.314275</td>\n",
       "    </tr>\n",
       "    <tr>\n",
       "      <th>8</th>\n",
       "      <td>0.546455</td>\n",
       "      <td>9.481513</td>\n",
       "      <td>72.466016</td>\n",
       "      <td>74.665010</td>\n",
       "      <td>28373.697890</td>\n",
       "      <td>56761.676378</td>\n",
       "      <td>131.224937</td>\n",
       "    </tr>\n",
       "    <tr>\n",
       "      <th>9</th>\n",
       "      <td>0.690093</td>\n",
       "      <td>9.481513</td>\n",
       "      <td>71.952819</td>\n",
       "      <td>46.949027</td>\n",
       "      <td>10196.613540</td>\n",
       "      <td>9496.492837</td>\n",
       "      <td>63.304323</td>\n",
       "    </tr>\n",
       "  </tbody>\n",
       "</table>\n",
       "</div>"
      ],
      "text/plain": [
       "          0         1           2          3             4             5  \\\n",
       "0  0.729785  9.481513   78.096979  47.917477   8536.806538  12045.004074   \n",
       "1  0.772712  9.481513   39.079069  29.226391   4598.073411   6801.270433   \n",
       "2  0.692439  9.481513   76.970032  56.515543  17467.905148  23601.993429   \n",
       "3  0.580331  9.481513  100.174934  75.261307  26650.225084  38662.925824   \n",
       "4  0.723652  9.481513   38.036466  33.701496   9519.245430  20018.988340   \n",
       "5  0.731981  9.481513   54.513911  37.214001   5608.800175   9584.216913   \n",
       "6  0.750954  9.481513   44.617979  26.816248   2936.862019   2953.956823   \n",
       "7  0.628107  9.481513   63.808282  46.237852  11816.186674  15221.848046   \n",
       "8  0.546455  9.481513   72.466016  74.665010  28373.697890  56761.676378   \n",
       "9  0.690093  9.481513   71.952819  46.949027  10196.613540   9496.492837   \n",
       "\n",
       "            7  \n",
       "0   62.165351  \n",
       "1   42.928722  \n",
       "2   82.026670  \n",
       "3  114.752481  \n",
       "4   62.470037  \n",
       "5   51.423406  \n",
       "6   35.104649  \n",
       "7   66.314275  \n",
       "8  131.224937  \n",
       "9   63.304323  "
      ]
     },
     "execution_count": 188,
     "metadata": {},
     "output_type": "execute_result"
    }
   ],
   "source": [
    "dset_df.head(10)"
   ]
  },
  {
   "cell_type": "code",
   "execution_count": 402,
   "id": "e2f43afb",
   "metadata": {},
   "outputs": [],
   "source": [
    "dset_df['Term']=0"
   ]
  },
  {
   "cell_type": "code",
   "execution_count": 190,
   "id": "da58f610",
   "metadata": {},
   "outputs": [
    {
     "data": {
      "text/html": [
       "<div>\n",
       "<style scoped>\n",
       "    .dataframe tbody tr th:only-of-type {\n",
       "        vertical-align: middle;\n",
       "    }\n",
       "\n",
       "    .dataframe tbody tr th {\n",
       "        vertical-align: top;\n",
       "    }\n",
       "\n",
       "    .dataframe thead th {\n",
       "        text-align: right;\n",
       "    }\n",
       "</style>\n",
       "<table border=\"1\" class=\"dataframe\">\n",
       "  <thead>\n",
       "    <tr style=\"text-align: right;\">\n",
       "      <th></th>\n",
       "      <th>0</th>\n",
       "      <th>1</th>\n",
       "      <th>2</th>\n",
       "      <th>3</th>\n",
       "      <th>4</th>\n",
       "      <th>5</th>\n",
       "      <th>7</th>\n",
       "      <th>Term</th>\n",
       "    </tr>\n",
       "  </thead>\n",
       "  <tbody>\n",
       "    <tr>\n",
       "      <th>0</th>\n",
       "      <td>0.729785</td>\n",
       "      <td>9.481513</td>\n",
       "      <td>78.096979</td>\n",
       "      <td>47.917477</td>\n",
       "      <td>8536.806538</td>\n",
       "      <td>12045.004074</td>\n",
       "      <td>62.165351</td>\n",
       "      <td>1</td>\n",
       "    </tr>\n",
       "    <tr>\n",
       "      <th>1</th>\n",
       "      <td>0.772712</td>\n",
       "      <td>9.481513</td>\n",
       "      <td>39.079069</td>\n",
       "      <td>29.226391</td>\n",
       "      <td>4598.073411</td>\n",
       "      <td>6801.270433</td>\n",
       "      <td>42.928722</td>\n",
       "      <td>1</td>\n",
       "    </tr>\n",
       "    <tr>\n",
       "      <th>2</th>\n",
       "      <td>0.692439</td>\n",
       "      <td>9.481513</td>\n",
       "      <td>76.970032</td>\n",
       "      <td>56.515543</td>\n",
       "      <td>17467.905148</td>\n",
       "      <td>23601.993429</td>\n",
       "      <td>82.026670</td>\n",
       "      <td>1</td>\n",
       "    </tr>\n",
       "    <tr>\n",
       "      <th>3</th>\n",
       "      <td>0.580331</td>\n",
       "      <td>9.481513</td>\n",
       "      <td>100.174934</td>\n",
       "      <td>75.261307</td>\n",
       "      <td>26650.225084</td>\n",
       "      <td>38662.925824</td>\n",
       "      <td>114.752481</td>\n",
       "      <td>1</td>\n",
       "    </tr>\n",
       "    <tr>\n",
       "      <th>4</th>\n",
       "      <td>0.723652</td>\n",
       "      <td>9.481513</td>\n",
       "      <td>38.036466</td>\n",
       "      <td>33.701496</td>\n",
       "      <td>9519.245430</td>\n",
       "      <td>20018.988340</td>\n",
       "      <td>62.470037</td>\n",
       "      <td>1</td>\n",
       "    </tr>\n",
       "  </tbody>\n",
       "</table>\n",
       "</div>"
      ],
      "text/plain": [
       "          0         1           2          3             4             5  \\\n",
       "0  0.729785  9.481513   78.096979  47.917477   8536.806538  12045.004074   \n",
       "1  0.772712  9.481513   39.079069  29.226391   4598.073411   6801.270433   \n",
       "2  0.692439  9.481513   76.970032  56.515543  17467.905148  23601.993429   \n",
       "3  0.580331  9.481513  100.174934  75.261307  26650.225084  38662.925824   \n",
       "4  0.723652  9.481513   38.036466  33.701496   9519.245430  20018.988340   \n",
       "\n",
       "            7  Term  \n",
       "0   62.165351     1  \n",
       "1   42.928722     1  \n",
       "2   82.026670     1  \n",
       "3  114.752481     1  \n",
       "4   62.470037     1  "
      ]
     },
     "execution_count": 190,
     "metadata": {},
     "output_type": "execute_result"
    }
   ],
   "source": [
    "dset_df.head()"
   ]
  },
  {
   "cell_type": "code",
   "execution_count": 177,
   "id": "770bd6c8",
   "metadata": {},
   "outputs": [
    {
     "data": {
      "text/plain": [
       "(60, 8)"
      ]
     },
     "execution_count": 177,
     "metadata": {},
     "output_type": "execute_result"
    }
   ],
   "source": [
    "df=pd.DataFrame(Signal_feature_data[0])\n",
    "df.shape"
   ]
  },
  {
   "cell_type": "code",
   "execution_count": 330,
   "id": "7b6a6103",
   "metadata": {},
   "outputs": [],
   "source": [
    "dset= []\n",
    "for i in Signal_feature_data:\n",
    "    temp_df = pd.DataFrame(i).describe()\n",
    "    \n",
    "    # Compute the mean for each row (along axis 1)\n",
    "    col_means = temp_df.mean(axis=0)\n",
    "    #col_means2=temp_df.\n",
    "    # Append the row means to the dataset\n",
    "    dset.append(np.concatenate((temp_df[0].values,temp_df[1].values,temp_df[2].values,temp_df[3].values,temp_df[4].values,temp_df[5].values,temp_df[7].values),axis=0))\n",
    "#     dset2.append(temp_df[0].values)\n",
    "#     dset2.append(temp_df[1].values)\n",
    "#     dset2.append(temp_df[2].values)\n",
    "#     dset2.append(temp_df[3].values)\n",
    "#     dset2.append(temp_df[4].values)\n",
    "#     dset2.append(temp_df[5].values)\n",
    "#     #dset2.append(temp_df[6].values)\n",
    "#     dset2.append(temp_df[7].values)\n",
    "    \n",
    "\n",
    "# Convert the dataset to a DataFrame\n",
    "dset_df = pd.DataFrame(dset)"
   ]
  },
  {
   "cell_type": "code",
   "execution_count": 178,
   "id": "ddf1111d",
   "metadata": {},
   "outputs": [
    {
     "ename": "ValueError",
     "evalue": "setting an array element with a sequence. The requested array has an inhomogeneous shape after 3 dimensions. The detected shape was (64, 60, 8) + inhomogeneous part.",
     "output_type": "error",
     "traceback": [
      "\u001b[1;31m---------------------------------------------------------------------------\u001b[0m",
      "\u001b[1;31mValueError\u001b[0m                                Traceback (most recent call last)",
      "\u001b[1;32m~\\AppData\\Local\\Temp\\ipykernel_1884\\3997780698.py\u001b[0m in \u001b[0;36m<module>\u001b[1;34m\u001b[0m\n\u001b[1;32m----> 1\u001b[1;33m \u001b[0mFeature_arr\u001b[0m\u001b[1;33m=\u001b[0m\u001b[0mnp\u001b[0m\u001b[1;33m.\u001b[0m\u001b[0marray\u001b[0m\u001b[1;33m(\u001b[0m\u001b[0mSignal_feature_data\u001b[0m\u001b[1;33m)\u001b[0m\u001b[1;33m\u001b[0m\u001b[1;33m\u001b[0m\u001b[0m\n\u001b[0m",
      "\u001b[1;31mValueError\u001b[0m: setting an array element with a sequence. The requested array has an inhomogeneous shape after 3 dimensions. The detected shape was (64, 60, 8) + inhomogeneous part."
     ]
    }
   ],
   "source": [
    "Feature_arr=np.array(Signal_feature_data)"
   ]
  },
  {
   "cell_type": "code",
   "execution_count": 331,
   "id": "60f62234",
   "metadata": {},
   "outputs": [
    {
     "data": {
      "text/plain": [
       "(62, 56)"
      ]
     },
     "execution_count": 331,
     "metadata": {},
     "output_type": "execute_result"
    }
   ],
   "source": [
    "dset_df.shape"
   ]
  },
  {
   "cell_type": "code",
   "execution_count": null,
   "id": "dd63f421",
   "metadata": {},
   "outputs": [],
   "source": [
    "np.size(Feature_arr[0][0])"
   ]
  },
  {
   "cell_type": "code",
   "execution_count": null,
   "id": "ae783375",
   "metadata": {},
   "outputs": [],
   "source": [
    "Feature_arr.shape"
   ]
  },
  {
   "cell_type": "code",
   "execution_count": null,
   "id": "6b3d3167",
   "metadata": {},
   "outputs": [],
   "source": [
    "Feature_arr[0][0]"
   ]
  },
  {
   "cell_type": "code",
   "execution_count": null,
   "id": "29d77aaa",
   "metadata": {},
   "outputs": [],
   "source": [
    "\n",
    "np.size(Feature_arr[0]) \n"
   ]
  },
  {
   "cell_type": "markdown",
   "id": "766d7dd6",
   "metadata": {},
   "source": [
    "A signal is decomposed into 6x8 signal. 8 Features of each signal is collected"
   ]
  },
  {
   "cell_type": "markdown",
   "id": "8f82354a",
   "metadata": {},
   "source": [
    "We need to make a dataFrame for which each row will represent a signal\n"
   ]
  },
  {
   "cell_type": "code",
   "execution_count": null,
   "id": "6fc3c46d",
   "metadata": {},
   "outputs": [],
   "source": [
    "Feature_arr_reshape=Feature_arr.reshape(64,-1)\n"
   ]
  },
  {
   "cell_type": "code",
   "execution_count": null,
   "id": "c6100c9b",
   "metadata": {},
   "outputs": [],
   "source": [
    "Feature_np=np.array(Feature_arr)\n",
    "mean_array=[]\n",
    "for i in Feature_arr:\n",
    "    mean=np.mean(i,axis=1)\n",
    "    mean_array.append(mean)\n",
    "mean_array.shape"
   ]
  },
  {
   "cell_type": "code",
   "execution_count": null,
   "id": "b076758d",
   "metadata": {},
   "outputs": [],
   "source": [
    "Feature_arr[0][0]"
   ]
  },
  {
   "cell_type": "code",
   "execution_count": null,
   "id": "f180ec29",
   "metadata": {},
   "outputs": [],
   "source": [
    "Feature_np.shape"
   ]
  },
  {
   "cell_type": "code",
   "execution_count": null,
   "id": "8da1d7e6",
   "metadata": {},
   "outputs": [],
   "source": [
    "Feature_arr_reshape.shape"
   ]
  },
  {
   "cell_type": "code",
   "execution_count": null,
   "id": "930c25e3",
   "metadata": {},
   "outputs": [],
   "source": []
  },
  {
   "cell_type": "code",
   "execution_count": null,
   "id": "95331494",
   "metadata": {},
   "outputs": [],
   "source": [
    "# Final_dataset_term=[]\n",
    "# for i in range(len(Feature_arr_reshape)):\n",
    "#     arr=[]\n",
    "#     for j in range(len(Feature_arr_reshape[i])):\n",
    "#         for k in range(len(Feature_arr_reshape[i][j])):\n",
    "#             for l in range(len(Feature_arr_reshape[i][j][k])):\n",
    "#                 arr.append(Feature_arr_reshape[i][j][k][l])\n",
    "#     Final_dataset_term.append(arr)"
   ]
  },
  {
   "cell_type": "code",
   "execution_count": null,
   "id": "3fe8fad9",
   "metadata": {},
   "outputs": [],
   "source": [
    "Final_dataset_term=Feature_arr_reshape"
   ]
  },
  {
   "cell_type": "code",
   "execution_count": null,
   "id": "2d41255d",
   "metadata": {},
   "outputs": [],
   "source": [
    "len(Final_dataset_term[0])"
   ]
  },
  {
   "cell_type": "code",
   "execution_count": null,
   "id": "e04c8bb9",
   "metadata": {},
   "outputs": [],
   "source": [
    "df=pd.DataFrame(Final_dataset_term)\n",
    "df.shape"
   ]
  },
  {
   "cell_type": "code",
   "execution_count": null,
   "id": "bbd2b5bc",
   "metadata": {},
   "outputs": [],
   "source": [
    "df1=df.copy()\n",
    "df2=df.copy()"
   ]
  },
  {
   "cell_type": "code",
   "execution_count": null,
   "id": "fb5b8d87",
   "metadata": {},
   "outputs": [],
   "source": [
    "df.dropna(axis=1,inplace=True)\n",
    "df.head()"
   ]
  },
  {
   "cell_type": "code",
   "execution_count": null,
   "id": "58214927",
   "metadata": {},
   "outputs": [],
   "source": [
    "df[\"Term\"]=1"
   ]
  },
  {
   "cell_type": "code",
   "execution_count": null,
   "id": "8961b79c",
   "metadata": {},
   "outputs": [],
   "source": [
    "df.head()"
   ]
  },
  {
   "cell_type": "code",
   "execution_count": null,
   "id": "8435787b",
   "metadata": {},
   "outputs": [],
   "source": [
    "df.shape"
   ]
  },
  {
   "cell_type": "code",
   "execution_count": null,
   "id": "50dfff19",
   "metadata": {},
   "outputs": [],
   "source": []
  },
  {
   "cell_type": "markdown",
   "id": "47a7d69e",
   "metadata": {},
   "source": [
    "# Pre-term:"
   ]
  },
  {
   "cell_type": "code",
   "execution_count": 191,
   "id": "fe51e9d6",
   "metadata": {},
   "outputs": [],
   "source": [
    "import os\n",
    "import glob\n",
    "import scipy.io\n",
    "\n",
    "folder_path = \"Final_dataset_preterm\"\n",
    "\n",
    "file_paths = glob.glob(os.path.join(folder_path, \"*.mat\"))\n",
    "\n",
    "signals=[]\n",
    "for file_path in file_paths:\n",
    "    data= scipy.io.loadmat(file_path)\n",
    "    signals.append(data)\n",
    "#     print(data)  # Example: Print the loaded data\n"
   ]
  },
  {
   "cell_type": "code",
   "execution_count": 192,
   "id": "46dc9a02",
   "metadata": {},
   "outputs": [],
   "source": [
    "import numpy as np\n",
    "import matplotlib.pyplot as plt\n",
    "from scipy.signal import butter, lfilter, freqz\n",
    "\n",
    "# Function to create a bandpass Butterworth filter\n",
    "def butter_bandpass(lowcut, highcut, fs, order=4):\n",
    "    nyquist = 0.5 * fs\n",
    "    low = lowcut / nyquist\n",
    "    high = highcut / nyquist\n",
    "    b, a = butter(order, [low, high], btype='band')\n",
    "    return b, a\n",
    "\n",
    "# Function to apply the bandpass filter to a signal\n",
    "def butter_bandpass_filter(data, lowcut, highcut, fs, order=4):\n",
    "    b, a = butter_bandpass(lowcut, highcut, fs, order=order)\n",
    "    y = lfilter(b, a, data)\n",
    "    return y\n",
    "\n",
    "# Example usage\n",
    "fs = 20  # Sampling frequency\n",
    "t = np.linspace(0, 5, 5 * fs, endpoint=False)  # Time vector\n",
    "# Define the bandpass filter parameters\n",
    "lowcut = 0.3  # Lower cutoff frequency in Hz\n",
    "highcut = 3.0  # Upper cutoff frequency in Hz\n",
    "order = 4  # Filter order\n",
    "\n",
    "\n",
    "filtered_signal_data=[]\n",
    "for i in range(len(signals)):\n",
    "    \n",
    "    filtered_signal = butter_bandpass_filter(Signal_data_arr[i], lowcut, highcut, fs, order)\n",
    "    filtered_signal_data.append(filtered_signal)\n",
    "# Plot the original and filtered signals\n",
    "# plt.figure(figsize=(10, 6))\n",
    "# plt.plot( signal, label='Original Signal')\n",
    "# plt.plot( filtered_signal, label='Filtered Signal')\n",
    "# plt.title('Bandpass Filter Applied to Signal')\n",
    "# plt.xlabel('Time (seconds)')\n",
    "# plt.ylabel('Amplitude')\n",
    "# plt.legend()\n",
    "# plt.show()\n"
   ]
  },
  {
   "cell_type": "code",
   "execution_count": null,
   "id": "734592b3",
   "metadata": {},
   "outputs": [],
   "source": [
    "plt.plot(filtered_signal_data[0])"
   ]
  },
  {
   "cell_type": "code",
   "execution_count": null,
   "id": "fbfd489b",
   "metadata": {},
   "outputs": [],
   "source": []
  },
  {
   "cell_type": "code",
   "execution_count": null,
   "id": "e1304cd3",
   "metadata": {},
   "outputs": [],
   "source": []
  },
  {
   "cell_type": "markdown",
   "id": "db87bd0d",
   "metadata": {},
   "source": [
    "# Cut Signal Data:"
   ]
  },
  {
   "cell_type": "code",
   "execution_count": 193,
   "id": "bc989c13",
   "metadata": {},
   "outputs": [],
   "source": [
    "Cut_signal_data=[]\n",
    "fs=20\n",
    "\n",
    "for i in range(len(signals)):\n",
    "    cut_signal=filtered_signal_data[i][(3*60*fs):-(3*60*fs)]\n",
    "    Cut_signal_data.append(cut_signal)\n",
    "#len(Cut_signal_data[0])"
   ]
  },
  {
   "cell_type": "markdown",
   "id": "6e3a78df",
   "metadata": {},
   "source": [
    "# Feature Extraction:"
   ]
  },
  {
   "cell_type": "code",
   "execution_count": null,
   "id": "57635211",
   "metadata": {},
   "outputs": [],
   "source": [
    "# import numpy as np\n",
    "# from scipy.stats import entropy\n",
    "# from PyEMD import EMD\n",
    "# import pywt\n",
    "\n",
    "# # Define functions for feature calculation\n",
    "# def fractal_dimension(signal):\n",
    "#     # Implement fractal dimension calculation\n",
    "#     pass\n",
    "\n",
    "# def fuzzy_entropy(signal):\n",
    "#     # Implement fuzzy entropy calculation\n",
    "#     pass\n",
    "\n",
    "# def interquartile_range(signal):\n",
    "#     return np.percentile(signal, 75) - np.percentile(signal, 25)\n",
    "\n",
    "# def mean_absolute_deviation(signal):\n",
    "#     return np.mean(np.abs(signal - np.mean(signal)))\n",
    "\n",
    "# def mean_energy(signal):\n",
    "#     return np.mean(np.square(signal))\n",
    "\n",
    "# def mean_teager_kaiser_energy(signal):\n",
    "#     return np.mean(np.square(np.diff(signal)))\n",
    "\n",
    "# def sample_entropy(signal):\n",
    "#     # Implement sample entropy calculation\n",
    "#     pass\n",
    "\n",
    "# def standard_deviation(signal):\n",
    "#     return np.std(signal)\n",
    "\n",
    "# # Define a function to perform Wavelet Packet Decomposition (WPD)\n",
    "# def perform_wpd(signal, level):\n",
    "#     # Choose a wavelet (e.g., 'db1' for Daubechies wavelet)\n",
    "#     wavelet = 'db8'\n",
    "\n",
    "#     # Perform WPD using pywt.wavedec\n",
    "#     coeffs = pywt.wavedec(signal, wavelet, level=level)\n",
    "\n",
    "#     # Select a subset of coefficients for further processing\n",
    "#     selected_coeffs = coeffs[1:]  # Exclude the approximation coefficients at level 0\n",
    "\n",
    "#     return selected_coeffs\n",
    "\n",
    "# Signal_feature_data=[]\n",
    "\n",
    "# for i in range(len(signals)):\n",
    "#     # Assuming 'signal' is the EHG signal\n",
    "#     signal = Cut_signal_data[i]  # Example signal\n",
    "#     levels = 5   # Example number of decomposition levels\n",
    "\n",
    "#     # Initialize lists to store features\n",
    "#     features = []\n",
    "\n",
    "#     # Initialize EMD for IMF extraction\n",
    "#     emd = EMD()\n",
    "\n",
    "#     # Perform EMD on the signal\n",
    "#     imfs = emd(signal)\n",
    "\n",
    "#     # Perform WPD on each IMF and extract features\n",
    "#     for imf in imfs:\n",
    "#         # Perform WPD and select coefficients\n",
    "#         wpd_coeffs = []  # Store selected WPD coefficients here\n",
    "#         for level in range(levels):\n",
    "#             selected_coeffs = perform_wpd(imf, level)\n",
    "#             wpd_coeffs.extend(selected_coeffs)\n",
    "\n",
    "#         # Calculate features for each coefficient\n",
    "#         for coeff in wpd_coeffs:\n",
    "#             features.append([\n",
    "#                 fractal_dimension(coeff),   #                # Fractal Dimension\n",
    "#                 fuzzy_entropy(coeff),     #                 # Fuzzy Entropy\n",
    "#                 interquartile_range(coeff),                # Interquartile Range\n",
    "#                 mean_absolute_deviation(coeff),            # Mean Absolute Deviation\n",
    "#                 mean_energy(coeff),                        # Mean Energy\n",
    "#                 mean_teager_kaiser_energy(coeff),          # Mean Teager-Kaiser Energy\n",
    "#                 sample_entropy(coeff),  #                   # Sample Entropy\n",
    "#                 standard_deviation(coeff),                 # Standard Deviation\n",
    "#             ])\n",
    "#     Signal_feature_data.append(features)\n",
    "\n",
    "# # 'features' now contains the extracted features from EMD and WPD\n"
   ]
  },
  {
   "cell_type": "code",
   "execution_count": 194,
   "id": "80c2d99d",
   "metadata": {},
   "outputs": [],
   "source": [
    "# import numpy as np\n",
    "# from scipy.stats import entropy\n",
    "# import pywt\n",
    "\n",
    "# Define functions for feature calculation\n",
    "# def fractal_dimension(signal):\n",
    "#     # Implement fractal dimension calculation\n",
    "#     pass\n",
    "\n",
    "# def fuzzy_entropy(signal):\n",
    "#     # Implement fuzzy entropy calculation\n",
    "#     pass\n",
    "\n",
    "def interquartile_range(signal):\n",
    "    return np.percentile(signal, 75) - np.percentile(signal, 25)\n",
    "\n",
    "def mean_absolute_deviation(signal):\n",
    "    return np.mean(np.abs(signal - np.mean(signal)))\n",
    "\n",
    "def mean_energy(signal):\n",
    "    return np.mean(np.square(signal))\n",
    "\n",
    "def mean_teager_kaiser_energy(signal):\n",
    "    return np.mean(np.square(np.diff(signal)))\n",
    "\n",
    "# def sample_entropy(signal):\n",
    "#     # Implement sample entropy calculation\n",
    "#     pass\n",
    "\n",
    "def standard_deviation(signal):\n",
    "    return np.std(signal)\n",
    "\n",
    "# Define a function to perform Discrete Wavelet Transform (DWT)\n",
    "def perform_dwt(signal, wavelet, level):\n",
    "    # Perform DWT using pywt.wavedec\n",
    "    coeffs = pywt.wavedec(signal, wavelet, level=level)\n",
    "    return coeffs\n",
    "def perform_wpd(signal, level):\n",
    "    # Choose a wavelet (e.g., 'db1' for Daubechies wavelet)\n",
    "    wavelet = 'db8'\n",
    "\n",
    "    # Perform WPD using pywt.wavedec\n",
    "    coeffs = pywt.wavedec(signal, wavelet, level=level)\n",
    "\n",
    "    # Select a subset of coefficients for further processing\n",
    "    selected_coeffs = coeffs[1:]  # Exclude the approximation coefficients at level 0\n",
    "\n",
    "    return selected_coeffs\n",
    "\n",
    "\n",
    "Signal_feature_data = []\n",
    "\n",
    "# Define the wavelet to be used for DWT\n",
    "wavelet = 'db4'  # Example wavelet, you can choose according to your requirements\n",
    "levels = 5        # Example number of decomposition levels\n",
    "\n",
    "for i in range(len(signals)):\n",
    "    # Assuming 'signal' is the EHG signal\n",
    "    signal = Cut_signal_data[i]  # Example signal\n",
    "\n",
    "    # Initialize lists to store features\n",
    "    features = []\n",
    "\n",
    "    # Perform DWT on the signal\n",
    "    coeffs = perform_dwt(signal, wavelet, level=levels)\n",
    "\n",
    "    # Perform WPD on each IMF and extract features\n",
    "    for imf in coeffs:\n",
    "        # Perform WPD and select coefficients\n",
    "        wpd_coeffs = []  # Store selected WPD coefficients here\n",
    "        for level in range(levels):\n",
    "            selected_coeffs = perform_wpd(imf, level)\n",
    "            wpd_coeffs.extend(selected_coeffs)\n",
    "\n",
    "        # Calculate features for each coefficient\n",
    "        for coeff in wpd_coeffs:\n",
    "            features.append([\n",
    "                fractal_dimension(coeff),   #                # Fractal Dimension\n",
    "                fuzzy_entropy(coeff),     #                 # Fuzzy Entropy\n",
    "                interquartile_range(coeff),                # Interquartile Range\n",
    "                mean_absolute_deviation(coeff),            # Mean Absolute Deviation\n",
    "                mean_energy(coeff),                        # Mean Energy\n",
    "                mean_teager_kaiser_energy(coeff),          # Mean Teager-Kaiser Energy\n",
    "                sample_entropy(coeff),  #                   # Sample Entropy\n",
    "                standard_deviation(coeff),                 # Standard Deviation\n",
    "            ])\n",
    "    Signal_feature_data.append(features)\n",
    "\n",
    "# 'features' now contains the extracted features from DWT\n"
   ]
  },
  {
   "cell_type": "code",
   "execution_count": 195,
   "id": "cee61a72",
   "metadata": {},
   "outputs": [
    {
     "data": {
      "text/plain": [
       "62"
      ]
     },
     "execution_count": 195,
     "metadata": {},
     "output_type": "execute_result"
    }
   ],
   "source": [
    "len(Signal_feature_data)"
   ]
  },
  {
   "cell_type": "code",
   "execution_count": 318,
   "id": "68d2ad4d",
   "metadata": {},
   "outputs": [],
   "source": [
    "dset2 = []\n",
    "for i in Signal_feature_data:\n",
    "    temp_df = pd.DataFrame(i).describe()\n",
    "    \n",
    "    # Compute the mean for each row (along axis 1)\n",
    "    col_means = temp_df.mean(axis=0)\n",
    "    #col_means2=temp_df.\n",
    "    # Append the row means to the dataset\n",
    "    dset2.append(np.concatenate((temp_df[0].values,temp_df[1].values,temp_df[2].values,temp_df[3].values,temp_df[4].values,temp_df[5].values,temp_df[7].values),axis=0))\n",
    "#     dset2.append(temp_df[0].values)\n",
    "#     dset2.append(temp_df[1].values)\n",
    "#     dset2.append(temp_df[2].values)\n",
    "#     dset2.append(temp_df[3].values)\n",
    "#     dset2.append(temp_df[4].values)\n",
    "#     dset2.append(temp_df[5].values)\n",
    "#     #dset2.append(temp_df[6].values)\n",
    "#     dset2.append(temp_df[7].values)\n",
    "    \n",
    "\n",
    "# Convert the dataset to a DataFrame\n",
    "dset_df2 = pd.DataFrame(dset2)"
   ]
  },
  {
   "cell_type": "code",
   "execution_count": 326,
   "id": "56047a57",
   "metadata": {},
   "outputs": [
    {
     "data": {
      "text/plain": [
       "(62, 57)"
      ]
     },
     "execution_count": 326,
     "metadata": {},
     "output_type": "execute_result"
    }
   ],
   "source": [
    "dset_df2.shape"
   ]
  },
  {
   "cell_type": "code",
   "execution_count": 327,
   "id": "9f0e79cc",
   "metadata": {},
   "outputs": [
    {
     "data": {
      "text/plain": [
       "(0, 1)"
      ]
     },
     "execution_count": 327,
     "metadata": {},
     "output_type": "execute_result"
    }
   ],
   "source": [
    "dset_df.shape"
   ]
  },
  {
   "cell_type": "code",
   "execution_count": 316,
   "id": "a60cac12",
   "metadata": {},
   "outputs": [],
   "source": [
    "# dset2 = []\n",
    "\n",
    "# for i in Signal_feature_data:\n",
    "#     temp_df = pd.DataFrame(i).describe()\n",
    "#     dset2.append(temp_df)\n",
    "\n",
    "# # Concatenate the DataFrames along axis 0\n",
    "# dset_df2 = pd.concat(dset2, axis=0)\n",
    "\n",
    "# # Reset the index of the concatenated DataFrame\n",
    "# dset_df2.reset_index(drop=True, inplace=True)\n"
   ]
  },
  {
   "cell_type": "code",
   "execution_count": 319,
   "id": "18037475",
   "metadata": {},
   "outputs": [
    {
     "data": {
      "text/plain": [
       "(62, 56)"
      ]
     },
     "execution_count": 319,
     "metadata": {},
     "output_type": "execute_result"
    }
   ],
   "source": [
    "dset_df2.shape"
   ]
  },
  {
   "cell_type": "code",
   "execution_count": 312,
   "id": "9bc8aae5",
   "metadata": {},
   "outputs": [
    {
     "data": {
      "text/plain": [
       "array([60.        ,  0.72978464,  0.25159506,  0.14185196,  0.49033848,\n",
       "        0.73303956,  1.00646996,  1.10112021])"
      ]
     },
     "execution_count": 312,
     "metadata": {},
     "output_type": "execute_result"
    }
   ],
   "source": [
    "# pd.DataFrame(Signal_feature_data[0]).describe()[0].values"
   ]
  },
  {
   "cell_type": "code",
   "execution_count": 313,
   "id": "d4a30149",
   "metadata": {},
   "outputs": [
    {
     "data": {
      "text/html": [
       "<div>\n",
       "<style scoped>\n",
       "    .dataframe tbody tr th:only-of-type {\n",
       "        vertical-align: middle;\n",
       "    }\n",
       "\n",
       "    .dataframe tbody tr th {\n",
       "        vertical-align: top;\n",
       "    }\n",
       "\n",
       "    .dataframe thead th {\n",
       "        text-align: right;\n",
       "    }\n",
       "</style>\n",
       "<table border=\"1\" class=\"dataframe\">\n",
       "  <thead>\n",
       "    <tr style=\"text-align: right;\">\n",
       "      <th></th>\n",
       "      <th>0</th>\n",
       "      <th>1</th>\n",
       "      <th>2</th>\n",
       "      <th>3</th>\n",
       "      <th>4</th>\n",
       "      <th>5</th>\n",
       "      <th>6</th>\n",
       "      <th>7</th>\n",
       "    </tr>\n",
       "  </thead>\n",
       "  <tbody>\n",
       "    <tr>\n",
       "      <th>0</th>\n",
       "      <td>60.0</td>\n",
       "      <td>0.729785</td>\n",
       "      <td>0.251595</td>\n",
       "      <td>0.141852</td>\n",
       "      <td>0.490338</td>\n",
       "      <td>0.733040</td>\n",
       "      <td>1.006470</td>\n",
       "      <td>1.101120</td>\n",
       "    </tr>\n",
       "    <tr>\n",
       "      <th>1</th>\n",
       "      <td>60.0</td>\n",
       "      <td>9.481513</td>\n",
       "      <td>1.754498</td>\n",
       "      <td>6.087463</td>\n",
       "      <td>7.851749</td>\n",
       "      <td>9.293537</td>\n",
       "      <td>10.773139</td>\n",
       "      <td>12.764664</td>\n",
       "    </tr>\n",
       "    <tr>\n",
       "      <th>2</th>\n",
       "      <td>60.0</td>\n",
       "      <td>78.096979</td>\n",
       "      <td>92.058088</td>\n",
       "      <td>0.066630</td>\n",
       "      <td>5.029167</td>\n",
       "      <td>33.034071</td>\n",
       "      <td>105.718220</td>\n",
       "      <td>276.195777</td>\n",
       "    </tr>\n",
       "    <tr>\n",
       "      <th>3</th>\n",
       "      <td>60.0</td>\n",
       "      <td>47.917477</td>\n",
       "      <td>54.642766</td>\n",
       "      <td>0.047100</td>\n",
       "      <td>3.809860</td>\n",
       "      <td>21.627000</td>\n",
       "      <td>66.310536</td>\n",
       "      <td>165.613897</td>\n",
       "    </tr>\n",
       "    <tr>\n",
       "      <th>4</th>\n",
       "      <td>60.0</td>\n",
       "      <td>8536.806538</td>\n",
       "      <td>14600.735929</td>\n",
       "      <td>0.008388</td>\n",
       "      <td>24.478005</td>\n",
       "      <td>883.669263</td>\n",
       "      <td>7572.316070</td>\n",
       "      <td>45299.574044</td>\n",
       "    </tr>\n",
       "    <tr>\n",
       "      <th>5</th>\n",
       "      <td>60.0</td>\n",
       "      <td>12045.004074</td>\n",
       "      <td>18620.982523</td>\n",
       "      <td>0.019519</td>\n",
       "      <td>27.607451</td>\n",
       "      <td>1211.699423</td>\n",
       "      <td>13846.962442</td>\n",
       "      <td>64851.685406</td>\n",
       "    </tr>\n",
       "    <tr>\n",
       "      <th>6</th>\n",
       "      <td>60.0</td>\n",
       "      <td>62.165351</td>\n",
       "      <td>68.865012</td>\n",
       "      <td>0.091500</td>\n",
       "      <td>4.947245</td>\n",
       "      <td>29.670784</td>\n",
       "      <td>87.019031</td>\n",
       "      <td>212.763143</td>\n",
       "    </tr>\n",
       "    <tr>\n",
       "      <th>7</th>\n",
       "      <td>59.0</td>\n",
       "      <td>0.772712</td>\n",
       "      <td>0.264414</td>\n",
       "      <td>0.179168</td>\n",
       "      <td>0.565309</td>\n",
       "      <td>0.748322</td>\n",
       "      <td>0.978506</td>\n",
       "      <td>1.178847</td>\n",
       "    </tr>\n",
       "    <tr>\n",
       "      <th>8</th>\n",
       "      <td>60.0</td>\n",
       "      <td>9.481513</td>\n",
       "      <td>1.754498</td>\n",
       "      <td>6.087463</td>\n",
       "      <td>7.851749</td>\n",
       "      <td>9.293537</td>\n",
       "      <td>10.773139</td>\n",
       "      <td>12.764664</td>\n",
       "    </tr>\n",
       "    <tr>\n",
       "      <th>9</th>\n",
       "      <td>60.0</td>\n",
       "      <td>39.079069</td>\n",
       "      <td>45.900519</td>\n",
       "      <td>0.041327</td>\n",
       "      <td>3.265142</td>\n",
       "      <td>19.522244</td>\n",
       "      <td>44.271227</td>\n",
       "      <td>141.937698</td>\n",
       "    </tr>\n",
       "  </tbody>\n",
       "</table>\n",
       "</div>"
      ],
      "text/plain": [
       "      0             1             2         3          4            5  \\\n",
       "0  60.0      0.729785      0.251595  0.141852   0.490338     0.733040   \n",
       "1  60.0      9.481513      1.754498  6.087463   7.851749     9.293537   \n",
       "2  60.0     78.096979     92.058088  0.066630   5.029167    33.034071   \n",
       "3  60.0     47.917477     54.642766  0.047100   3.809860    21.627000   \n",
       "4  60.0   8536.806538  14600.735929  0.008388  24.478005   883.669263   \n",
       "5  60.0  12045.004074  18620.982523  0.019519  27.607451  1211.699423   \n",
       "6  60.0     62.165351     68.865012  0.091500   4.947245    29.670784   \n",
       "7  59.0      0.772712      0.264414  0.179168   0.565309     0.748322   \n",
       "8  60.0      9.481513      1.754498  6.087463   7.851749     9.293537   \n",
       "9  60.0     39.079069     45.900519  0.041327   3.265142    19.522244   \n",
       "\n",
       "              6             7  \n",
       "0      1.006470      1.101120  \n",
       "1     10.773139     12.764664  \n",
       "2    105.718220    276.195777  \n",
       "3     66.310536    165.613897  \n",
       "4   7572.316070  45299.574044  \n",
       "5  13846.962442  64851.685406  \n",
       "6     87.019031    212.763143  \n",
       "7      0.978506      1.178847  \n",
       "8     10.773139     12.764664  \n",
       "9     44.271227    141.937698  "
      ]
     },
     "execution_count": 313,
     "metadata": {},
     "output_type": "execute_result"
    }
   ],
   "source": [
    "dset_df2.head(10)"
   ]
  },
  {
   "cell_type": "code",
   "execution_count": 314,
   "id": "f560fe68",
   "metadata": {},
   "outputs": [
    {
     "data": {
      "text/plain": [
       "(434, 8)"
      ]
     },
     "execution_count": 314,
     "metadata": {},
     "output_type": "execute_result"
    }
   ],
   "source": [
    "dset_df2.shape"
   ]
  },
  {
   "cell_type": "code",
   "execution_count": 289,
   "id": "ab528421",
   "metadata": {},
   "outputs": [
    {
     "data": {
      "text/plain": [
       "Int64Index([0, 1, 2, 3, 4, 5, 7], dtype='int64')"
      ]
     },
     "execution_count": 289,
     "metadata": {},
     "output_type": "execute_result"
    }
   ],
   "source": [
    "dset_df2.describe().columns"
   ]
  },
  {
   "cell_type": "code",
   "execution_count": 302,
   "id": "e0d224be",
   "metadata": {},
   "outputs": [
    {
     "data": {
      "text/html": [
       "<div>\n",
       "<style scoped>\n",
       "    .dataframe tbody tr th:only-of-type {\n",
       "        vertical-align: middle;\n",
       "    }\n",
       "\n",
       "    .dataframe tbody tr th {\n",
       "        vertical-align: top;\n",
       "    }\n",
       "\n",
       "    .dataframe thead th {\n",
       "        text-align: right;\n",
       "    }\n",
       "</style>\n",
       "<table border=\"1\" class=\"dataframe\">\n",
       "  <thead>\n",
       "    <tr style=\"text-align: right;\">\n",
       "      <th></th>\n",
       "      <th>count</th>\n",
       "      <th>mean</th>\n",
       "      <th>std</th>\n",
       "      <th>min</th>\n",
       "      <th>25%</th>\n",
       "      <th>50%</th>\n",
       "      <th>75%</th>\n",
       "      <th>max</th>\n",
       "    </tr>\n",
       "  </thead>\n",
       "  <tbody>\n",
       "    <tr>\n",
       "      <th>0</th>\n",
       "      <td>62.0</td>\n",
       "      <td>0.679984</td>\n",
       "      <td>7.553205e-02</td>\n",
       "      <td>0.421936</td>\n",
       "      <td>0.627203</td>\n",
       "      <td>0.676702</td>\n",
       "      <td>0.731177</td>\n",
       "      <td>0.827368</td>\n",
       "    </tr>\n",
       "    <tr>\n",
       "      <th>1</th>\n",
       "      <td>62.0</td>\n",
       "      <td>9.481513</td>\n",
       "      <td>1.253601e-14</td>\n",
       "      <td>9.481513</td>\n",
       "      <td>9.481513</td>\n",
       "      <td>9.481513</td>\n",
       "      <td>9.481513</td>\n",
       "      <td>9.481513</td>\n",
       "    </tr>\n",
       "    <tr>\n",
       "      <th>2</th>\n",
       "      <td>62.0</td>\n",
       "      <td>69.130323</td>\n",
       "      <td>5.048634e+01</td>\n",
       "      <td>19.488609</td>\n",
       "      <td>42.840208</td>\n",
       "      <td>56.485216</td>\n",
       "      <td>74.366353</td>\n",
       "      <td>334.722389</td>\n",
       "    </tr>\n",
       "    <tr>\n",
       "      <th>3</th>\n",
       "      <td>62.0</td>\n",
       "      <td>48.372576</td>\n",
       "      <td>3.201086e+01</td>\n",
       "      <td>13.436284</td>\n",
       "      <td>31.267257</td>\n",
       "      <td>38.117888</td>\n",
       "      <td>54.254041</td>\n",
       "      <td>196.219337</td>\n",
       "    </tr>\n",
       "    <tr>\n",
       "      <th>4</th>\n",
       "      <td>62.0</td>\n",
       "      <td>20703.436246</td>\n",
       "      <td>5.133859e+04</td>\n",
       "      <td>611.599040</td>\n",
       "      <td>4670.499886</td>\n",
       "      <td>7398.741452</td>\n",
       "      <td>14407.584910</td>\n",
       "      <td>376042.485593</td>\n",
       "    </tr>\n",
       "    <tr>\n",
       "      <th>5</th>\n",
       "      <td>62.0</td>\n",
       "      <td>35562.013651</td>\n",
       "      <td>1.135482e+05</td>\n",
       "      <td>975.607546</td>\n",
       "      <td>6545.850842</td>\n",
       "      <td>10147.654388</td>\n",
       "      <td>19809.750673</td>\n",
       "      <td>879416.895465</td>\n",
       "    </tr>\n",
       "    <tr>\n",
       "      <th>7</th>\n",
       "      <td>62.0</td>\n",
       "      <td>73.704199</td>\n",
       "      <td>6.163405e+01</td>\n",
       "      <td>18.223442</td>\n",
       "      <td>43.852171</td>\n",
       "      <td>59.194268</td>\n",
       "      <td>79.392597</td>\n",
       "      <td>432.494167</td>\n",
       "    </tr>\n",
       "    <tr>\n",
       "      <th>Term</th>\n",
       "      <td>62.0</td>\n",
       "      <td>0.000000</td>\n",
       "      <td>0.000000e+00</td>\n",
       "      <td>0.000000</td>\n",
       "      <td>0.000000</td>\n",
       "      <td>0.000000</td>\n",
       "      <td>0.000000</td>\n",
       "      <td>0.000000</td>\n",
       "    </tr>\n",
       "  </tbody>\n",
       "</table>\n",
       "</div>"
      ],
      "text/plain": [
       "      count          mean           std         min          25%  \\\n",
       "0      62.0      0.679984  7.553205e-02    0.421936     0.627203   \n",
       "1      62.0      9.481513  1.253601e-14    9.481513     9.481513   \n",
       "2      62.0     69.130323  5.048634e+01   19.488609    42.840208   \n",
       "3      62.0     48.372576  3.201086e+01   13.436284    31.267257   \n",
       "4      62.0  20703.436246  5.133859e+04  611.599040  4670.499886   \n",
       "5      62.0  35562.013651  1.135482e+05  975.607546  6545.850842   \n",
       "7      62.0     73.704199  6.163405e+01   18.223442    43.852171   \n",
       "Term   62.0      0.000000  0.000000e+00    0.000000     0.000000   \n",
       "\n",
       "               50%           75%            max  \n",
       "0         0.676702      0.731177       0.827368  \n",
       "1         9.481513      9.481513       9.481513  \n",
       "2        56.485216     74.366353     334.722389  \n",
       "3        38.117888     54.254041     196.219337  \n",
       "4      7398.741452  14407.584910  376042.485593  \n",
       "5     10147.654388  19809.750673  879416.895465  \n",
       "7        59.194268     79.392597     432.494167  \n",
       "Term      0.000000      0.000000       0.000000  "
      ]
     },
     "execution_count": 302,
     "metadata": {},
     "output_type": "execute_result"
    }
   ],
   "source": [
    "samp"
   ]
  },
  {
   "cell_type": "code",
   "execution_count": 403,
   "id": "85ff3d07",
   "metadata": {},
   "outputs": [],
   "source": [
    "dset_df2['Term']=1"
   ]
  },
  {
   "cell_type": "code",
   "execution_count": 321,
   "id": "a1ed0763",
   "metadata": {},
   "outputs": [
    {
     "data": {
      "text/html": [
       "<div>\n",
       "<style scoped>\n",
       "    .dataframe tbody tr th:only-of-type {\n",
       "        vertical-align: middle;\n",
       "    }\n",
       "\n",
       "    .dataframe tbody tr th {\n",
       "        vertical-align: top;\n",
       "    }\n",
       "\n",
       "    .dataframe thead th {\n",
       "        text-align: right;\n",
       "    }\n",
       "</style>\n",
       "<table border=\"1\" class=\"dataframe\">\n",
       "  <thead>\n",
       "    <tr style=\"text-align: right;\">\n",
       "      <th></th>\n",
       "      <th>0</th>\n",
       "      <th>1</th>\n",
       "      <th>2</th>\n",
       "      <th>3</th>\n",
       "      <th>4</th>\n",
       "      <th>5</th>\n",
       "      <th>6</th>\n",
       "      <th>7</th>\n",
       "      <th>8</th>\n",
       "      <th>9</th>\n",
       "      <th>...</th>\n",
       "      <th>47</th>\n",
       "      <th>48</th>\n",
       "      <th>49</th>\n",
       "      <th>50</th>\n",
       "      <th>51</th>\n",
       "      <th>52</th>\n",
       "      <th>53</th>\n",
       "      <th>54</th>\n",
       "      <th>55</th>\n",
       "      <th>Term</th>\n",
       "    </tr>\n",
       "  </thead>\n",
       "  <tbody>\n",
       "    <tr>\n",
       "      <th>0</th>\n",
       "      <td>60.0</td>\n",
       "      <td>0.729785</td>\n",
       "      <td>0.251595</td>\n",
       "      <td>0.141852</td>\n",
       "      <td>0.490338</td>\n",
       "      <td>0.733040</td>\n",
       "      <td>1.006470</td>\n",
       "      <td>1.101120</td>\n",
       "      <td>60.0</td>\n",
       "      <td>9.481513</td>\n",
       "      <td>...</td>\n",
       "      <td>64851.685406</td>\n",
       "      <td>60.0</td>\n",
       "      <td>62.165351</td>\n",
       "      <td>68.865012</td>\n",
       "      <td>0.091500</td>\n",
       "      <td>4.947245</td>\n",
       "      <td>29.670784</td>\n",
       "      <td>87.019031</td>\n",
       "      <td>212.763143</td>\n",
       "      <td>0</td>\n",
       "    </tr>\n",
       "    <tr>\n",
       "      <th>1</th>\n",
       "      <td>59.0</td>\n",
       "      <td>0.772712</td>\n",
       "      <td>0.264414</td>\n",
       "      <td>0.179168</td>\n",
       "      <td>0.565309</td>\n",
       "      <td>0.748322</td>\n",
       "      <td>0.978506</td>\n",
       "      <td>1.178847</td>\n",
       "      <td>60.0</td>\n",
       "      <td>9.481513</td>\n",
       "      <td>...</td>\n",
       "      <td>48588.686109</td>\n",
       "      <td>60.0</td>\n",
       "      <td>42.928722</td>\n",
       "      <td>52.876856</td>\n",
       "      <td>0.040291</td>\n",
       "      <td>2.230166</td>\n",
       "      <td>20.884826</td>\n",
       "      <td>62.042778</td>\n",
       "      <td>174.441612</td>\n",
       "      <td>0</td>\n",
       "    </tr>\n",
       "    <tr>\n",
       "      <th>2</th>\n",
       "      <td>60.0</td>\n",
       "      <td>0.692439</td>\n",
       "      <td>0.309374</td>\n",
       "      <td>-0.000000</td>\n",
       "      <td>0.406204</td>\n",
       "      <td>0.631146</td>\n",
       "      <td>0.910198</td>\n",
       "      <td>1.313192</td>\n",
       "      <td>60.0</td>\n",
       "      <td>9.481513</td>\n",
       "      <td>...</td>\n",
       "      <td>134167.647672</td>\n",
       "      <td>60.0</td>\n",
       "      <td>82.026670</td>\n",
       "      <td>104.242343</td>\n",
       "      <td>0.067227</td>\n",
       "      <td>3.224522</td>\n",
       "      <td>31.644095</td>\n",
       "      <td>127.486406</td>\n",
       "      <td>315.896958</td>\n",
       "      <td>0</td>\n",
       "    </tr>\n",
       "    <tr>\n",
       "      <th>3</th>\n",
       "      <td>60.0</td>\n",
       "      <td>0.580331</td>\n",
       "      <td>0.244476</td>\n",
       "      <td>-0.000000</td>\n",
       "      <td>0.397646</td>\n",
       "      <td>0.588012</td>\n",
       "      <td>0.707992</td>\n",
       "      <td>1.178847</td>\n",
       "      <td>60.0</td>\n",
       "      <td>9.481513</td>\n",
       "      <td>...</td>\n",
       "      <td>229867.892748</td>\n",
       "      <td>60.0</td>\n",
       "      <td>114.752481</td>\n",
       "      <td>116.885556</td>\n",
       "      <td>0.095087</td>\n",
       "      <td>9.915898</td>\n",
       "      <td>63.630894</td>\n",
       "      <td>203.468326</td>\n",
       "      <td>387.629797</td>\n",
       "      <td>0</td>\n",
       "    </tr>\n",
       "    <tr>\n",
       "      <th>4</th>\n",
       "      <td>60.0</td>\n",
       "      <td>0.723652</td>\n",
       "      <td>0.254094</td>\n",
       "      <td>0.175603</td>\n",
       "      <td>0.563407</td>\n",
       "      <td>0.697652</td>\n",
       "      <td>0.879536</td>\n",
       "      <td>1.129475</td>\n",
       "      <td>60.0</td>\n",
       "      <td>9.481513</td>\n",
       "      <td>...</td>\n",
       "      <td>537283.540594</td>\n",
       "      <td>60.0</td>\n",
       "      <td>62.470037</td>\n",
       "      <td>75.464139</td>\n",
       "      <td>0.100596</td>\n",
       "      <td>3.307992</td>\n",
       "      <td>27.494779</td>\n",
       "      <td>95.888434</td>\n",
       "      <td>407.451736</td>\n",
       "      <td>0</td>\n",
       "    </tr>\n",
       "  </tbody>\n",
       "</table>\n",
       "<p>5 rows × 57 columns</p>\n",
       "</div>"
      ],
      "text/plain": [
       "      0         1         2         3         4         5         6         7  \\\n",
       "0  60.0  0.729785  0.251595  0.141852  0.490338  0.733040  1.006470  1.101120   \n",
       "1  59.0  0.772712  0.264414  0.179168  0.565309  0.748322  0.978506  1.178847   \n",
       "2  60.0  0.692439  0.309374 -0.000000  0.406204  0.631146  0.910198  1.313192   \n",
       "3  60.0  0.580331  0.244476 -0.000000  0.397646  0.588012  0.707992  1.178847   \n",
       "4  60.0  0.723652  0.254094  0.175603  0.563407  0.697652  0.879536  1.129475   \n",
       "\n",
       "      8         9  ...             47    48          49          50        51  \\\n",
       "0  60.0  9.481513  ...   64851.685406  60.0   62.165351   68.865012  0.091500   \n",
       "1  60.0  9.481513  ...   48588.686109  60.0   42.928722   52.876856  0.040291   \n",
       "2  60.0  9.481513  ...  134167.647672  60.0   82.026670  104.242343  0.067227   \n",
       "3  60.0  9.481513  ...  229867.892748  60.0  114.752481  116.885556  0.095087   \n",
       "4  60.0  9.481513  ...  537283.540594  60.0   62.470037   75.464139  0.100596   \n",
       "\n",
       "         52         53          54          55  Term  \n",
       "0  4.947245  29.670784   87.019031  212.763143     0  \n",
       "1  2.230166  20.884826   62.042778  174.441612     0  \n",
       "2  3.224522  31.644095  127.486406  315.896958     0  \n",
       "3  9.915898  63.630894  203.468326  387.629797     0  \n",
       "4  3.307992  27.494779   95.888434  407.451736     0  \n",
       "\n",
       "[5 rows x 57 columns]"
      ]
     },
     "execution_count": 321,
     "metadata": {},
     "output_type": "execute_result"
    }
   ],
   "source": [
    "dset_df2.head()"
   ]
  },
  {
   "cell_type": "code",
   "execution_count": 404,
   "id": "79ae40f9",
   "metadata": {},
   "outputs": [
    {
     "data": {
      "text/html": [
       "<div>\n",
       "<style scoped>\n",
       "    .dataframe tbody tr th:only-of-type {\n",
       "        vertical-align: middle;\n",
       "    }\n",
       "\n",
       "    .dataframe tbody tr th {\n",
       "        vertical-align: top;\n",
       "    }\n",
       "\n",
       "    .dataframe thead th {\n",
       "        text-align: right;\n",
       "    }\n",
       "</style>\n",
       "<table border=\"1\" class=\"dataframe\">\n",
       "  <thead>\n",
       "    <tr style=\"text-align: right;\">\n",
       "      <th></th>\n",
       "      <th>0</th>\n",
       "      <th>1</th>\n",
       "      <th>2</th>\n",
       "      <th>3</th>\n",
       "      <th>4</th>\n",
       "      <th>5</th>\n",
       "      <th>6</th>\n",
       "      <th>7</th>\n",
       "      <th>8</th>\n",
       "      <th>9</th>\n",
       "      <th>...</th>\n",
       "      <th>47</th>\n",
       "      <th>48</th>\n",
       "      <th>49</th>\n",
       "      <th>50</th>\n",
       "      <th>51</th>\n",
       "      <th>52</th>\n",
       "      <th>53</th>\n",
       "      <th>54</th>\n",
       "      <th>55</th>\n",
       "      <th>Term</th>\n",
       "    </tr>\n",
       "  </thead>\n",
       "  <tbody>\n",
       "    <tr>\n",
       "      <th>0</th>\n",
       "      <td>60.0</td>\n",
       "      <td>0.729785</td>\n",
       "      <td>0.251595</td>\n",
       "      <td>0.141852</td>\n",
       "      <td>0.490338</td>\n",
       "      <td>0.733040</td>\n",
       "      <td>1.006470</td>\n",
       "      <td>1.101120</td>\n",
       "      <td>60.0</td>\n",
       "      <td>9.481513</td>\n",
       "      <td>...</td>\n",
       "      <td>64851.685406</td>\n",
       "      <td>60.0</td>\n",
       "      <td>62.165351</td>\n",
       "      <td>68.865012</td>\n",
       "      <td>0.091500</td>\n",
       "      <td>4.947245</td>\n",
       "      <td>29.670784</td>\n",
       "      <td>87.019031</td>\n",
       "      <td>212.763143</td>\n",
       "      <td>0</td>\n",
       "    </tr>\n",
       "    <tr>\n",
       "      <th>1</th>\n",
       "      <td>59.0</td>\n",
       "      <td>0.772712</td>\n",
       "      <td>0.264414</td>\n",
       "      <td>0.179168</td>\n",
       "      <td>0.565309</td>\n",
       "      <td>0.748322</td>\n",
       "      <td>0.978506</td>\n",
       "      <td>1.178847</td>\n",
       "      <td>60.0</td>\n",
       "      <td>9.481513</td>\n",
       "      <td>...</td>\n",
       "      <td>48588.686109</td>\n",
       "      <td>60.0</td>\n",
       "      <td>42.928722</td>\n",
       "      <td>52.876856</td>\n",
       "      <td>0.040291</td>\n",
       "      <td>2.230166</td>\n",
       "      <td>20.884826</td>\n",
       "      <td>62.042778</td>\n",
       "      <td>174.441612</td>\n",
       "      <td>0</td>\n",
       "    </tr>\n",
       "    <tr>\n",
       "      <th>2</th>\n",
       "      <td>60.0</td>\n",
       "      <td>0.692439</td>\n",
       "      <td>0.309374</td>\n",
       "      <td>-0.000000</td>\n",
       "      <td>0.406204</td>\n",
       "      <td>0.631146</td>\n",
       "      <td>0.910198</td>\n",
       "      <td>1.313192</td>\n",
       "      <td>60.0</td>\n",
       "      <td>9.481513</td>\n",
       "      <td>...</td>\n",
       "      <td>134167.647672</td>\n",
       "      <td>60.0</td>\n",
       "      <td>82.026670</td>\n",
       "      <td>104.242343</td>\n",
       "      <td>0.067227</td>\n",
       "      <td>3.224522</td>\n",
       "      <td>31.644095</td>\n",
       "      <td>127.486406</td>\n",
       "      <td>315.896958</td>\n",
       "      <td>0</td>\n",
       "    </tr>\n",
       "    <tr>\n",
       "      <th>3</th>\n",
       "      <td>60.0</td>\n",
       "      <td>0.580331</td>\n",
       "      <td>0.244476</td>\n",
       "      <td>-0.000000</td>\n",
       "      <td>0.397646</td>\n",
       "      <td>0.588012</td>\n",
       "      <td>0.707992</td>\n",
       "      <td>1.178847</td>\n",
       "      <td>60.0</td>\n",
       "      <td>9.481513</td>\n",
       "      <td>...</td>\n",
       "      <td>229867.892748</td>\n",
       "      <td>60.0</td>\n",
       "      <td>114.752481</td>\n",
       "      <td>116.885556</td>\n",
       "      <td>0.095087</td>\n",
       "      <td>9.915898</td>\n",
       "      <td>63.630894</td>\n",
       "      <td>203.468326</td>\n",
       "      <td>387.629797</td>\n",
       "      <td>0</td>\n",
       "    </tr>\n",
       "    <tr>\n",
       "      <th>4</th>\n",
       "      <td>60.0</td>\n",
       "      <td>0.723652</td>\n",
       "      <td>0.254094</td>\n",
       "      <td>0.175603</td>\n",
       "      <td>0.563407</td>\n",
       "      <td>0.697652</td>\n",
       "      <td>0.879536</td>\n",
       "      <td>1.129475</td>\n",
       "      <td>60.0</td>\n",
       "      <td>9.481513</td>\n",
       "      <td>...</td>\n",
       "      <td>537283.540594</td>\n",
       "      <td>60.0</td>\n",
       "      <td>62.470037</td>\n",
       "      <td>75.464139</td>\n",
       "      <td>0.100596</td>\n",
       "      <td>3.307992</td>\n",
       "      <td>27.494779</td>\n",
       "      <td>95.888434</td>\n",
       "      <td>407.451736</td>\n",
       "      <td>0</td>\n",
       "    </tr>\n",
       "    <tr>\n",
       "      <th>5</th>\n",
       "      <td>60.0</td>\n",
       "      <td>0.731981</td>\n",
       "      <td>0.261388</td>\n",
       "      <td>-0.000000</td>\n",
       "      <td>0.593773</td>\n",
       "      <td>0.707251</td>\n",
       "      <td>0.863498</td>\n",
       "      <td>1.262589</td>\n",
       "      <td>60.0</td>\n",
       "      <td>9.481513</td>\n",
       "      <td>...</td>\n",
       "      <td>51274.714652</td>\n",
       "      <td>60.0</td>\n",
       "      <td>51.423406</td>\n",
       "      <td>54.580176</td>\n",
       "      <td>0.058589</td>\n",
       "      <td>3.660499</td>\n",
       "      <td>21.403313</td>\n",
       "      <td>99.164461</td>\n",
       "      <td>162.316116</td>\n",
       "      <td>0</td>\n",
       "    </tr>\n",
       "    <tr>\n",
       "      <th>6</th>\n",
       "      <td>60.0</td>\n",
       "      <td>0.750954</td>\n",
       "      <td>0.238270</td>\n",
       "      <td>-0.000000</td>\n",
       "      <td>0.646382</td>\n",
       "      <td>0.762883</td>\n",
       "      <td>0.856242</td>\n",
       "      <td>1.145153</td>\n",
       "      <td>60.0</td>\n",
       "      <td>9.481513</td>\n",
       "      <td>...</td>\n",
       "      <td>19986.531377</td>\n",
       "      <td>60.0</td>\n",
       "      <td>35.104649</td>\n",
       "      <td>41.419298</td>\n",
       "      <td>0.047436</td>\n",
       "      <td>1.946082</td>\n",
       "      <td>16.803485</td>\n",
       "      <td>55.717691</td>\n",
       "      <td>132.338219</td>\n",
       "      <td>0</td>\n",
       "    </tr>\n",
       "    <tr>\n",
       "      <th>7</th>\n",
       "      <td>60.0</td>\n",
       "      <td>0.628107</td>\n",
       "      <td>0.207518</td>\n",
       "      <td>-0.000000</td>\n",
       "      <td>0.430652</td>\n",
       "      <td>0.686000</td>\n",
       "      <td>0.765622</td>\n",
       "      <td>1.104483</td>\n",
       "      <td>60.0</td>\n",
       "      <td>9.481513</td>\n",
       "      <td>...</td>\n",
       "      <td>89801.754313</td>\n",
       "      <td>60.0</td>\n",
       "      <td>66.314275</td>\n",
       "      <td>86.572848</td>\n",
       "      <td>0.058478</td>\n",
       "      <td>3.408336</td>\n",
       "      <td>30.182359</td>\n",
       "      <td>84.063467</td>\n",
       "      <td>263.820801</td>\n",
       "      <td>0</td>\n",
       "    </tr>\n",
       "    <tr>\n",
       "      <th>8</th>\n",
       "      <td>60.0</td>\n",
       "      <td>0.546455</td>\n",
       "      <td>0.185376</td>\n",
       "      <td>0.185006</td>\n",
       "      <td>0.437626</td>\n",
       "      <td>0.533080</td>\n",
       "      <td>0.670915</td>\n",
       "      <td>1.104483</td>\n",
       "      <td>60.0</td>\n",
       "      <td>9.481513</td>\n",
       "      <td>...</td>\n",
       "      <td>247254.890769</td>\n",
       "      <td>60.0</td>\n",
       "      <td>131.224937</td>\n",
       "      <td>106.277128</td>\n",
       "      <td>0.222010</td>\n",
       "      <td>20.644694</td>\n",
       "      <td>126.013096</td>\n",
       "      <td>202.597405</td>\n",
       "      <td>328.918323</td>\n",
       "      <td>0</td>\n",
       "    </tr>\n",
       "    <tr>\n",
       "      <th>9</th>\n",
       "      <td>60.0</td>\n",
       "      <td>0.690093</td>\n",
       "      <td>0.231103</td>\n",
       "      <td>0.147899</td>\n",
       "      <td>0.444990</td>\n",
       "      <td>0.713059</td>\n",
       "      <td>0.834760</td>\n",
       "      <td>1.101120</td>\n",
       "      <td>60.0</td>\n",
       "      <td>9.481513</td>\n",
       "      <td>...</td>\n",
       "      <td>45955.033963</td>\n",
       "      <td>60.0</td>\n",
       "      <td>63.304323</td>\n",
       "      <td>79.298652</td>\n",
       "      <td>0.083592</td>\n",
       "      <td>4.521541</td>\n",
       "      <td>27.937245</td>\n",
       "      <td>82.218809</td>\n",
       "      <td>256.776707</td>\n",
       "      <td>0</td>\n",
       "    </tr>\n",
       "  </tbody>\n",
       "</table>\n",
       "<p>10 rows × 57 columns</p>\n",
       "</div>"
      ],
      "text/plain": [
       "      0         1         2         3         4         5         6         7  \\\n",
       "0  60.0  0.729785  0.251595  0.141852  0.490338  0.733040  1.006470  1.101120   \n",
       "1  59.0  0.772712  0.264414  0.179168  0.565309  0.748322  0.978506  1.178847   \n",
       "2  60.0  0.692439  0.309374 -0.000000  0.406204  0.631146  0.910198  1.313192   \n",
       "3  60.0  0.580331  0.244476 -0.000000  0.397646  0.588012  0.707992  1.178847   \n",
       "4  60.0  0.723652  0.254094  0.175603  0.563407  0.697652  0.879536  1.129475   \n",
       "5  60.0  0.731981  0.261388 -0.000000  0.593773  0.707251  0.863498  1.262589   \n",
       "6  60.0  0.750954  0.238270 -0.000000  0.646382  0.762883  0.856242  1.145153   \n",
       "7  60.0  0.628107  0.207518 -0.000000  0.430652  0.686000  0.765622  1.104483   \n",
       "8  60.0  0.546455  0.185376  0.185006  0.437626  0.533080  0.670915  1.104483   \n",
       "9  60.0  0.690093  0.231103  0.147899  0.444990  0.713059  0.834760  1.101120   \n",
       "\n",
       "      8         9  ...             47    48          49          50        51  \\\n",
       "0  60.0  9.481513  ...   64851.685406  60.0   62.165351   68.865012  0.091500   \n",
       "1  60.0  9.481513  ...   48588.686109  60.0   42.928722   52.876856  0.040291   \n",
       "2  60.0  9.481513  ...  134167.647672  60.0   82.026670  104.242343  0.067227   \n",
       "3  60.0  9.481513  ...  229867.892748  60.0  114.752481  116.885556  0.095087   \n",
       "4  60.0  9.481513  ...  537283.540594  60.0   62.470037   75.464139  0.100596   \n",
       "5  60.0  9.481513  ...   51274.714652  60.0   51.423406   54.580176  0.058589   \n",
       "6  60.0  9.481513  ...   19986.531377  60.0   35.104649   41.419298  0.047436   \n",
       "7  60.0  9.481513  ...   89801.754313  60.0   66.314275   86.572848  0.058478   \n",
       "8  60.0  9.481513  ...  247254.890769  60.0  131.224937  106.277128  0.222010   \n",
       "9  60.0  9.481513  ...   45955.033963  60.0   63.304323   79.298652  0.083592   \n",
       "\n",
       "          52          53          54          55  Term  \n",
       "0   4.947245   29.670784   87.019031  212.763143     0  \n",
       "1   2.230166   20.884826   62.042778  174.441612     0  \n",
       "2   3.224522   31.644095  127.486406  315.896958     0  \n",
       "3   9.915898   63.630894  203.468326  387.629797     0  \n",
       "4   3.307992   27.494779   95.888434  407.451736     0  \n",
       "5   3.660499   21.403313   99.164461  162.316116     0  \n",
       "6   1.946082   16.803485   55.717691  132.338219     0  \n",
       "7   3.408336   30.182359   84.063467  263.820801     0  \n",
       "8  20.644694  126.013096  202.597405  328.918323     0  \n",
       "9   4.521541   27.937245   82.218809  256.776707     0  \n",
       "\n",
       "[10 rows x 57 columns]"
      ]
     },
     "execution_count": 404,
     "metadata": {},
     "output_type": "execute_result"
    }
   ],
   "source": [
    "Final_dset2=pd.concat([dset_df,dset_df2],axis=0)\n",
    "Final_dset2.head(10)"
   ]
  },
  {
   "cell_type": "code",
   "execution_count": 343,
   "id": "8b8f9262",
   "metadata": {},
   "outputs": [
    {
     "data": {
      "text/html": [
       "<div>\n",
       "<style scoped>\n",
       "    .dataframe tbody tr th:only-of-type {\n",
       "        vertical-align: middle;\n",
       "    }\n",
       "\n",
       "    .dataframe tbody tr th {\n",
       "        vertical-align: top;\n",
       "    }\n",
       "\n",
       "    .dataframe thead th {\n",
       "        text-align: right;\n",
       "    }\n",
       "</style>\n",
       "<table border=\"1\" class=\"dataframe\">\n",
       "  <thead>\n",
       "    <tr style=\"text-align: right;\">\n",
       "      <th></th>\n",
       "      <th>0</th>\n",
       "      <th>1</th>\n",
       "      <th>2</th>\n",
       "      <th>3</th>\n",
       "      <th>4</th>\n",
       "      <th>5</th>\n",
       "      <th>6</th>\n",
       "      <th>7</th>\n",
       "      <th>8</th>\n",
       "      <th>9</th>\n",
       "      <th>...</th>\n",
       "      <th>47</th>\n",
       "      <th>48</th>\n",
       "      <th>49</th>\n",
       "      <th>50</th>\n",
       "      <th>51</th>\n",
       "      <th>52</th>\n",
       "      <th>53</th>\n",
       "      <th>54</th>\n",
       "      <th>55</th>\n",
       "      <th>Term</th>\n",
       "    </tr>\n",
       "  </thead>\n",
       "  <tbody>\n",
       "    <tr>\n",
       "      <th>0</th>\n",
       "      <td>60.0</td>\n",
       "      <td>0.729785</td>\n",
       "      <td>0.251595</td>\n",
       "      <td>0.141852</td>\n",
       "      <td>0.490338</td>\n",
       "      <td>0.733040</td>\n",
       "      <td>1.006470</td>\n",
       "      <td>1.101120</td>\n",
       "      <td>60.0</td>\n",
       "      <td>9.481513</td>\n",
       "      <td>...</td>\n",
       "      <td>6.485169e+04</td>\n",
       "      <td>60.0</td>\n",
       "      <td>62.165351</td>\n",
       "      <td>68.865012</td>\n",
       "      <td>0.091500</td>\n",
       "      <td>4.947245</td>\n",
       "      <td>29.670784</td>\n",
       "      <td>87.019031</td>\n",
       "      <td>212.763143</td>\n",
       "      <td>1</td>\n",
       "    </tr>\n",
       "    <tr>\n",
       "      <th>1</th>\n",
       "      <td>59.0</td>\n",
       "      <td>0.772712</td>\n",
       "      <td>0.264414</td>\n",
       "      <td>0.179168</td>\n",
       "      <td>0.565309</td>\n",
       "      <td>0.748322</td>\n",
       "      <td>0.978506</td>\n",
       "      <td>1.178847</td>\n",
       "      <td>60.0</td>\n",
       "      <td>9.481513</td>\n",
       "      <td>...</td>\n",
       "      <td>4.858869e+04</td>\n",
       "      <td>60.0</td>\n",
       "      <td>42.928722</td>\n",
       "      <td>52.876856</td>\n",
       "      <td>0.040291</td>\n",
       "      <td>2.230166</td>\n",
       "      <td>20.884826</td>\n",
       "      <td>62.042778</td>\n",
       "      <td>174.441612</td>\n",
       "      <td>1</td>\n",
       "    </tr>\n",
       "    <tr>\n",
       "      <th>2</th>\n",
       "      <td>60.0</td>\n",
       "      <td>0.692439</td>\n",
       "      <td>0.309374</td>\n",
       "      <td>-0.000000</td>\n",
       "      <td>0.406204</td>\n",
       "      <td>0.631146</td>\n",
       "      <td>0.910198</td>\n",
       "      <td>1.313192</td>\n",
       "      <td>60.0</td>\n",
       "      <td>9.481513</td>\n",
       "      <td>...</td>\n",
       "      <td>1.341676e+05</td>\n",
       "      <td>60.0</td>\n",
       "      <td>82.026670</td>\n",
       "      <td>104.242343</td>\n",
       "      <td>0.067227</td>\n",
       "      <td>3.224522</td>\n",
       "      <td>31.644095</td>\n",
       "      <td>127.486406</td>\n",
       "      <td>315.896958</td>\n",
       "      <td>1</td>\n",
       "    </tr>\n",
       "    <tr>\n",
       "      <th>3</th>\n",
       "      <td>60.0</td>\n",
       "      <td>0.580331</td>\n",
       "      <td>0.244476</td>\n",
       "      <td>-0.000000</td>\n",
       "      <td>0.397646</td>\n",
       "      <td>0.588012</td>\n",
       "      <td>0.707992</td>\n",
       "      <td>1.178847</td>\n",
       "      <td>60.0</td>\n",
       "      <td>9.481513</td>\n",
       "      <td>...</td>\n",
       "      <td>2.298679e+05</td>\n",
       "      <td>60.0</td>\n",
       "      <td>114.752481</td>\n",
       "      <td>116.885556</td>\n",
       "      <td>0.095087</td>\n",
       "      <td>9.915898</td>\n",
       "      <td>63.630894</td>\n",
       "      <td>203.468326</td>\n",
       "      <td>387.629797</td>\n",
       "      <td>1</td>\n",
       "    </tr>\n",
       "    <tr>\n",
       "      <th>4</th>\n",
       "      <td>60.0</td>\n",
       "      <td>0.723652</td>\n",
       "      <td>0.254094</td>\n",
       "      <td>0.175603</td>\n",
       "      <td>0.563407</td>\n",
       "      <td>0.697652</td>\n",
       "      <td>0.879536</td>\n",
       "      <td>1.129475</td>\n",
       "      <td>60.0</td>\n",
       "      <td>9.481513</td>\n",
       "      <td>...</td>\n",
       "      <td>5.372835e+05</td>\n",
       "      <td>60.0</td>\n",
       "      <td>62.470037</td>\n",
       "      <td>75.464139</td>\n",
       "      <td>0.100596</td>\n",
       "      <td>3.307992</td>\n",
       "      <td>27.494779</td>\n",
       "      <td>95.888434</td>\n",
       "      <td>407.451736</td>\n",
       "      <td>1</td>\n",
       "    </tr>\n",
       "    <tr>\n",
       "      <th>...</th>\n",
       "      <td>...</td>\n",
       "      <td>...</td>\n",
       "      <td>...</td>\n",
       "      <td>...</td>\n",
       "      <td>...</td>\n",
       "      <td>...</td>\n",
       "      <td>...</td>\n",
       "      <td>...</td>\n",
       "      <td>...</td>\n",
       "      <td>...</td>\n",
       "      <td>...</td>\n",
       "      <td>...</td>\n",
       "      <td>...</td>\n",
       "      <td>...</td>\n",
       "      <td>...</td>\n",
       "      <td>...</td>\n",
       "      <td>...</td>\n",
       "      <td>...</td>\n",
       "      <td>...</td>\n",
       "      <td>...</td>\n",
       "      <td>...</td>\n",
       "    </tr>\n",
       "    <tr>\n",
       "      <th>57</th>\n",
       "      <td>60.0</td>\n",
       "      <td>0.724316</td>\n",
       "      <td>0.302503</td>\n",
       "      <td>-0.000000</td>\n",
       "      <td>0.587141</td>\n",
       "      <td>0.770559</td>\n",
       "      <td>0.909146</td>\n",
       "      <td>1.232634</td>\n",
       "      <td>60.0</td>\n",
       "      <td>9.481513</td>\n",
       "      <td>...</td>\n",
       "      <td>2.371735e+04</td>\n",
       "      <td>60.0</td>\n",
       "      <td>41.924375</td>\n",
       "      <td>48.258825</td>\n",
       "      <td>0.042652</td>\n",
       "      <td>4.311380</td>\n",
       "      <td>25.747221</td>\n",
       "      <td>58.259415</td>\n",
       "      <td>152.600865</td>\n",
       "      <td>0</td>\n",
       "    </tr>\n",
       "    <tr>\n",
       "      <th>58</th>\n",
       "      <td>60.0</td>\n",
       "      <td>0.631735</td>\n",
       "      <td>0.201558</td>\n",
       "      <td>-0.000000</td>\n",
       "      <td>0.521091</td>\n",
       "      <td>0.658056</td>\n",
       "      <td>0.728261</td>\n",
       "      <td>1.044487</td>\n",
       "      <td>60.0</td>\n",
       "      <td>9.481513</td>\n",
       "      <td>...</td>\n",
       "      <td>1.012381e+05</td>\n",
       "      <td>60.0</td>\n",
       "      <td>62.937536</td>\n",
       "      <td>72.368025</td>\n",
       "      <td>0.064076</td>\n",
       "      <td>4.662161</td>\n",
       "      <td>35.800242</td>\n",
       "      <td>99.255902</td>\n",
       "      <td>234.207957</td>\n",
       "      <td>0</td>\n",
       "    </tr>\n",
       "    <tr>\n",
       "      <th>59</th>\n",
       "      <td>60.0</td>\n",
       "      <td>0.575441</td>\n",
       "      <td>0.323181</td>\n",
       "      <td>0.062549</td>\n",
       "      <td>0.227805</td>\n",
       "      <td>0.563155</td>\n",
       "      <td>0.811434</td>\n",
       "      <td>1.262589</td>\n",
       "      <td>60.0</td>\n",
       "      <td>9.481513</td>\n",
       "      <td>...</td>\n",
       "      <td>1.676240e+06</td>\n",
       "      <td>60.0</td>\n",
       "      <td>244.800304</td>\n",
       "      <td>310.483908</td>\n",
       "      <td>0.188277</td>\n",
       "      <td>17.327203</td>\n",
       "      <td>107.892513</td>\n",
       "      <td>363.429243</td>\n",
       "      <td>1154.076056</td>\n",
       "      <td>0</td>\n",
       "    </tr>\n",
       "    <tr>\n",
       "      <th>60</th>\n",
       "      <td>59.0</td>\n",
       "      <td>0.676313</td>\n",
       "      <td>0.257960</td>\n",
       "      <td>0.134952</td>\n",
       "      <td>0.432691</td>\n",
       "      <td>0.664093</td>\n",
       "      <td>0.871721</td>\n",
       "      <td>1.075416</td>\n",
       "      <td>60.0</td>\n",
       "      <td>9.481513</td>\n",
       "      <td>...</td>\n",
       "      <td>9.951696e+04</td>\n",
       "      <td>60.0</td>\n",
       "      <td>80.098136</td>\n",
       "      <td>98.413362</td>\n",
       "      <td>0.062660</td>\n",
       "      <td>4.190207</td>\n",
       "      <td>42.411056</td>\n",
       "      <td>124.126581</td>\n",
       "      <td>311.644505</td>\n",
       "      <td>0</td>\n",
       "    </tr>\n",
       "    <tr>\n",
       "      <th>61</th>\n",
       "      <td>59.0</td>\n",
       "      <td>0.705334</td>\n",
       "      <td>0.243446</td>\n",
       "      <td>-0.000000</td>\n",
       "      <td>0.582352</td>\n",
       "      <td>0.784035</td>\n",
       "      <td>0.848125</td>\n",
       "      <td>1.061488</td>\n",
       "      <td>60.0</td>\n",
       "      <td>9.481513</td>\n",
       "      <td>...</td>\n",
       "      <td>7.727363e+04</td>\n",
       "      <td>60.0</td>\n",
       "      <td>43.192669</td>\n",
       "      <td>55.300058</td>\n",
       "      <td>0.044812</td>\n",
       "      <td>2.275039</td>\n",
       "      <td>19.918772</td>\n",
       "      <td>78.585425</td>\n",
       "      <td>202.326266</td>\n",
       "      <td>0</td>\n",
       "    </tr>\n",
       "  </tbody>\n",
       "</table>\n",
       "<p>124 rows × 57 columns</p>\n",
       "</div>"
      ],
      "text/plain": [
       "       0         1         2         3         4         5         6  \\\n",
       "0   60.0  0.729785  0.251595  0.141852  0.490338  0.733040  1.006470   \n",
       "1   59.0  0.772712  0.264414  0.179168  0.565309  0.748322  0.978506   \n",
       "2   60.0  0.692439  0.309374 -0.000000  0.406204  0.631146  0.910198   \n",
       "3   60.0  0.580331  0.244476 -0.000000  0.397646  0.588012  0.707992   \n",
       "4   60.0  0.723652  0.254094  0.175603  0.563407  0.697652  0.879536   \n",
       "..   ...       ...       ...       ...       ...       ...       ...   \n",
       "57  60.0  0.724316  0.302503 -0.000000  0.587141  0.770559  0.909146   \n",
       "58  60.0  0.631735  0.201558 -0.000000  0.521091  0.658056  0.728261   \n",
       "59  60.0  0.575441  0.323181  0.062549  0.227805  0.563155  0.811434   \n",
       "60  59.0  0.676313  0.257960  0.134952  0.432691  0.664093  0.871721   \n",
       "61  59.0  0.705334  0.243446 -0.000000  0.582352  0.784035  0.848125   \n",
       "\n",
       "           7     8         9  ...            47    48          49          50  \\\n",
       "0   1.101120  60.0  9.481513  ...  6.485169e+04  60.0   62.165351   68.865012   \n",
       "1   1.178847  60.0  9.481513  ...  4.858869e+04  60.0   42.928722   52.876856   \n",
       "2   1.313192  60.0  9.481513  ...  1.341676e+05  60.0   82.026670  104.242343   \n",
       "3   1.178847  60.0  9.481513  ...  2.298679e+05  60.0  114.752481  116.885556   \n",
       "4   1.129475  60.0  9.481513  ...  5.372835e+05  60.0   62.470037   75.464139   \n",
       "..       ...   ...       ...  ...           ...   ...         ...         ...   \n",
       "57  1.232634  60.0  9.481513  ...  2.371735e+04  60.0   41.924375   48.258825   \n",
       "58  1.044487  60.0  9.481513  ...  1.012381e+05  60.0   62.937536   72.368025   \n",
       "59  1.262589  60.0  9.481513  ...  1.676240e+06  60.0  244.800304  310.483908   \n",
       "60  1.075416  60.0  9.481513  ...  9.951696e+04  60.0   80.098136   98.413362   \n",
       "61  1.061488  60.0  9.481513  ...  7.727363e+04  60.0   43.192669   55.300058   \n",
       "\n",
       "          51         52          53          54           55  Term  \n",
       "0   0.091500   4.947245   29.670784   87.019031   212.763143     1  \n",
       "1   0.040291   2.230166   20.884826   62.042778   174.441612     1  \n",
       "2   0.067227   3.224522   31.644095  127.486406   315.896958     1  \n",
       "3   0.095087   9.915898   63.630894  203.468326   387.629797     1  \n",
       "4   0.100596   3.307992   27.494779   95.888434   407.451736     1  \n",
       "..       ...        ...         ...         ...          ...   ...  \n",
       "57  0.042652   4.311380   25.747221   58.259415   152.600865     0  \n",
       "58  0.064076   4.662161   35.800242   99.255902   234.207957     0  \n",
       "59  0.188277  17.327203  107.892513  363.429243  1154.076056     0  \n",
       "60  0.062660   4.190207   42.411056  124.126581   311.644505     0  \n",
       "61  0.044812   2.275039   19.918772   78.585425   202.326266     0  \n",
       "\n",
       "[124 rows x 57 columns]"
      ]
     },
     "execution_count": 343,
     "metadata": {},
     "output_type": "execute_result"
    }
   ],
   "source": [
    "Final_dset2"
   ]
  },
  {
   "cell_type": "code",
   "execution_count": 344,
   "id": "3e665ad3",
   "metadata": {},
   "outputs": [
    {
     "data": {
      "text/plain": [
       "0       False\n",
       "1       False\n",
       "2       False\n",
       "3       False\n",
       "4       False\n",
       "5       False\n",
       "6       False\n",
       "7       False\n",
       "8       False\n",
       "9       False\n",
       "10      False\n",
       "11      False\n",
       "12      False\n",
       "13      False\n",
       "14      False\n",
       "15      False\n",
       "16      False\n",
       "17      False\n",
       "18      False\n",
       "19      False\n",
       "20      False\n",
       "21      False\n",
       "22      False\n",
       "23      False\n",
       "24      False\n",
       "25      False\n",
       "26      False\n",
       "27      False\n",
       "28      False\n",
       "29      False\n",
       "30      False\n",
       "31      False\n",
       "32      False\n",
       "33      False\n",
       "34      False\n",
       "35      False\n",
       "36      False\n",
       "37      False\n",
       "38      False\n",
       "39      False\n",
       "40      False\n",
       "41      False\n",
       "42      False\n",
       "43      False\n",
       "44      False\n",
       "45      False\n",
       "46      False\n",
       "47      False\n",
       "48      False\n",
       "49      False\n",
       "50      False\n",
       "51      False\n",
       "52      False\n",
       "53      False\n",
       "54      False\n",
       "55      False\n",
       "Term    False\n",
       "dtype: bool"
      ]
     },
     "execution_count": 344,
     "metadata": {},
     "output_type": "execute_result"
    }
   ],
   "source": [
    "Final_dset2.isnull().any()"
   ]
  },
  {
   "cell_type": "code",
   "execution_count": 405,
   "id": "c19306e7",
   "metadata": {},
   "outputs": [],
   "source": [
    "X2=Final_dset2.drop(labels=['Term'],axis=1).values\n",
    "y2=Final_dset2.filter(items=['Term'],axis=1).values"
   ]
  },
  {
   "cell_type": "code",
   "execution_count": 406,
   "id": "e0a34bbf",
   "metadata": {},
   "outputs": [],
   "source": [
    "y2=y2.flatten()"
   ]
  },
  {
   "cell_type": "code",
   "execution_count": 407,
   "id": "2612616b",
   "metadata": {},
   "outputs": [
    {
     "name": "stdout",
     "output_type": "stream",
     "text": [
      "<class 'numpy.ndarray'>\n",
      "<class 'numpy.ndarray'>\n"
     ]
    }
   ],
   "source": [
    "print(type(X2))\n",
    "print(type(y2))"
   ]
  },
  {
   "cell_type": "code",
   "execution_count": 379,
   "id": "7b130b0d",
   "metadata": {},
   "outputs": [
    {
     "data": {
      "text/plain": [
       "array([[6.00000000e+01, 7.29784638e-01, 2.51595058e-01, ...,\n",
       "        2.96707837e+01, 8.70190312e+01, 2.12763143e+02],\n",
       "       [5.90000000e+01, 7.72711956e-01, 2.64414102e-01, ...,\n",
       "        2.08848263e+01, 6.20427778e+01, 1.74441612e+02],\n",
       "       [6.00000000e+01, 6.92439496e-01, 3.09373601e-01, ...,\n",
       "        3.16440954e+01, 1.27486406e+02, 3.15896958e+02],\n",
       "       ...,\n",
       "       [6.00000000e+01, 5.75440518e-01, 3.23181325e-01, ...,\n",
       "        1.07892513e+02, 3.63429243e+02, 1.15407606e+03],\n",
       "       [5.90000000e+01, 6.76312726e-01, 2.57960100e-01, ...,\n",
       "        4.24110561e+01, 1.24126581e+02, 3.11644505e+02],\n",
       "       [5.90000000e+01, 7.05334194e-01, 2.43445511e-01, ...,\n",
       "        1.99187719e+01, 7.85854248e+01, 2.02326266e+02]])"
      ]
     },
     "execution_count": 379,
     "metadata": {},
     "output_type": "execute_result"
    }
   ],
   "source": []
  },
  {
   "cell_type": "code",
   "execution_count": 383,
   "id": "d42244e1",
   "metadata": {},
   "outputs": [
    {
     "data": {
      "text/plain": [
       "(124,)"
      ]
     },
     "execution_count": 383,
     "metadata": {},
     "output_type": "execute_result"
    }
   ],
   "source": [
    "y2.shape\n"
   ]
  },
  {
   "cell_type": "code",
   "execution_count": 408,
   "id": "be43fd62",
   "metadata": {},
   "outputs": [],
   "source": [
    "X_train2,X_test2,y_train2,y_test2=train_test_split(X2,y2,test_size=0.25)"
   ]
  },
  {
   "cell_type": "code",
   "execution_count": 409,
   "id": "8c05bd30",
   "metadata": {},
   "outputs": [
    {
     "name": "stdout",
     "output_type": "stream",
     "text": [
      "(93, 56)\n",
      "(93,)\n",
      "(31, 56)\n",
      "(31,)\n"
     ]
    }
   ],
   "source": [
    "print(X_train2.shape)\n",
    "print(y_train2.shape)\n",
    "print(X_test2.shape)\n",
    "print(y_test2.shape)\n"
   ]
  },
  {
   "cell_type": "code",
   "execution_count": null,
   "id": "a5374eca",
   "metadata": {},
   "outputs": [],
   "source": []
  },
  {
   "cell_type": "code",
   "execution_count": 417,
   "id": "d267f35e",
   "metadata": {},
   "outputs": [],
   "source": [
    "model=RandomForestClassifier(n_estimators=100,max_depth=10,min_samples_split=2,n_jobs=-1)\n",
    "model.fit(X_train2,y_train2)\n",
    "y_pred2=model.predict(X_test2)<=0.5"
   ]
  },
  {
   "cell_type": "code",
   "execution_count": 419,
   "id": "33699fc8",
   "metadata": {},
   "outputs": [],
   "source": [
    "model=LinearRegression(n_jobs=-1)\n",
    "model.fit(X_train2,y_train2)\n",
    "y_pred2=model.predict(X_test2)<=0.5"
   ]
  },
  {
   "cell_type": "code",
   "execution_count": 354,
   "id": "20a3c9b9",
   "metadata": {},
   "outputs": [
    {
     "data": {
      "text/plain": [
       "-1.6856661338137284"
      ]
     },
     "execution_count": 354,
     "metadata": {},
     "output_type": "execute_result"
    }
   ],
   "source": []
  },
  {
   "cell_type": "code",
   "execution_count": 415,
   "id": "72632317",
   "metadata": {},
   "outputs": [
    {
     "name": "stdout",
     "output_type": "stream",
     "text": [
      "[1, 1, 1, 0, 0, 1, 1, 1, 1, 1, 1, 1, 0, 0, 1, 1, 0, 1, 1, 0, 0, 0, 1, 0, 1, 1, 0, 1, 0, 0, 0]\n",
      "[True, True, True, False, True, True, True, True, True, True, True, True, True, False, True, True, False, True, True, False, False, False, True, False, True, True, False, True, False, False, True]\n"
     ]
    }
   ],
   "source": [
    "print(y_test2.tolist())\n",
    "print(y_pred2.tolist())"
   ]
  },
  {
   "cell_type": "code",
   "execution_count": 390,
   "id": "97226eea",
   "metadata": {},
   "outputs": [
    {
     "data": {
      "text/plain": [
       "array([1, 1, 0, 1, 1, 0, 0, 1, 0, 1, 1, 0, 0, 1, 0, 1, 0, 0, 0, 1, 1, 0,\n",
       "       0, 1, 1, 1, 1, 1, 0, 1, 0], dtype=int64)"
      ]
     },
     "execution_count": 390,
     "metadata": {},
     "output_type": "execute_result"
    }
   ],
   "source": []
  },
  {
   "cell_type": "code",
   "execution_count": 420,
   "id": "18504ba6",
   "metadata": {},
   "outputs": [
    {
     "data": {
      "text/plain": [
       "0.9032258064516129"
      ]
     },
     "execution_count": 420,
     "metadata": {},
     "output_type": "execute_result"
    }
   ],
   "source": [
    "accuracy_score(y_test2,y_pred2)"
   ]
  },
  {
   "cell_type": "code",
   "execution_count": 421,
   "id": "57f1486d",
   "metadata": {},
   "outputs": [],
   "source": [
    "Final_dset2.to_excel('Final_dataset_iteration2.xlsx',index=False)\n",
    "Final_dset2.to_csv('Final_dataset_iteration2.csv',index=False)"
   ]
  },
  {
   "cell_type": "code",
   "execution_count": 427,
   "id": "e8755189",
   "metadata": {},
   "outputs": [
    {
     "name": "stdout",
     "output_type": "stream",
     "text": [
      "              precision    recall  f1-score   support\n",
      "\n",
      "           0       1.00      0.77      0.87        13\n",
      "           1       0.86      1.00      0.92        18\n",
      "\n",
      "    accuracy                           0.90        31\n",
      "   macro avg       0.93      0.88      0.90        31\n",
      "weighted avg       0.92      0.90      0.90        31\n",
      "\n"
     ]
    }
   ],
   "source": [
    "print(metrics.classification_report(y_test2, y_pred2)) #Sequence is very important "
   ]
  },
  {
   "cell_type": "code",
   "execution_count": 428,
   "id": "00bde30f",
   "metadata": {},
   "outputs": [],
   "source": [
    "from sklearn import metrics\n",
    "import seaborn as sns\n",
    "import matplotlib.pyplot as plt\n",
    "from sklearn.metrics import confusion_matrix\n"
   ]
  },
  {
   "cell_type": "code",
   "execution_count": 434,
   "id": "a1ad8500",
   "metadata": {},
   "outputs": [
    {
     "data": {
      "image/png": "[encoded data removed]",
      "text/plain": [
       "<Figure size 800x600 with 2 Axes>"
      ]
     },
     "metadata": {},
     "output_type": "display_data"
    }
   ],
   "source": [
    "# Create the confusion matrix\n",
    "cm = confusion_matrix(y_test2, y_pred2)\n",
    "\n",
    "# Create a heatmap of the confusion matrix\n",
    "plt.figure(figsize=(8, 6))\n",
    "sns.heatmap(cm, annot=True, fmt='g', \n",
    "            xticklabels=['Predicted PreTerm', 'Predicted Term'], \n",
    "            yticklabels=['Actual PreTerm', 'Actual Term'])\n",
    "plt.xlabel('Predicted labels')\n",
    "plt.ylabel('True labels')\n",
    "plt.title('Confusion Matrix')\n",
    "plt.show()"
   ]
  },
  {
   "cell_type": "code",
   "execution_count": null,
   "id": "8f9278b9",
   "metadata": {},
   "outputs": [],
   "source": []
  },
  {
   "cell_type": "code",
   "execution_count": null,
   "id": "8a491e69",
   "metadata": {},
   "outputs": [],
   "source": []
  },
  {
   "cell_type": "code",
   "execution_count": null,
   "id": "c6e4bfc6",
   "metadata": {},
   "outputs": [],
   "source": []
  },
  {
   "cell_type": "markdown",
   "id": "781dbcfe",
   "metadata": {},
   "source": [
    "### Dataset Forming:"
   ]
  },
  {
   "cell_type": "code",
   "execution_count": null,
   "id": "5ddb6d5a",
   "metadata": {},
   "outputs": [],
   "source": [
    "Feature_arr_preterm=np.array(Signal_feature_data)\n",
    "Feature_arr_reshape_preterm=Feature_arr_preterm.reshape(62,-1)\n",
    "Final_dataset_preterm=Feature_arr_reshape_preterm\n",
    "# for i in range(len(Feature_arr_reshape_preterm)):\n",
    "#     arr=[]\n",
    "#     for j in range(len(Feature_arr_reshape_preterm[i])):\n",
    "#         for k in range(len(Feature_arr_reshape_preterm[i][j])):\n",
    "#             for l in range(len(Feature_arr_reshape_preterm[i][j][k])):\n",
    "#                 arr.append(Feature_arr_reshape_preterm[i][j][k][l])\n",
    "#     Final_dataset_preterm.append(arr)\n"
   ]
  },
  {
   "cell_type": "code",
   "execution_count": null,
   "id": "3aee53b7",
   "metadata": {},
   "outputs": [],
   "source": [
    "Feature_arr_reshape_preterm.shape"
   ]
  },
  {
   "cell_type": "code",
   "execution_count": null,
   "id": "e7b17598",
   "metadata": {},
   "outputs": [],
   "source": [
    "len(Final_dataset_preterm[0])\n"
   ]
  },
  {
   "cell_type": "code",
   "execution_count": null,
   "id": "0e38f73a",
   "metadata": {},
   "outputs": [],
   "source": [
    "df_preterm=pd.DataFrame(Final_dataset_preterm)\n",
    "df3=df_preterm.copy()\n",
    "df4=df_preterm.copy()\n",
    "df_preterm.dropna(axis=1,inplace=True)\n"
   ]
  },
  {
   "cell_type": "code",
   "execution_count": null,
   "id": "edbfd2b0",
   "metadata": {},
   "outputs": [],
   "source": [
    "df_preterm.shape"
   ]
  },
  {
   "cell_type": "code",
   "execution_count": null,
   "id": "b7c96ffe",
   "metadata": {},
   "outputs": [],
   "source": [
    "df_preterm[\"Term\"]=0"
   ]
  },
  {
   "cell_type": "code",
   "execution_count": null,
   "id": "e08bce3e",
   "metadata": {},
   "outputs": [],
   "source": [
    "Final_dataset.to_excel('Final_unshaped_dataset.xlsx',index=False)\n",
    "Final_dataset.to_csv('Final_unshaped_dataset.csv',index=False)"
   ]
  },
  {
   "cell_type": "markdown",
   "id": "7887214c",
   "metadata": {},
   "source": [
    "# Final Dataset Forming:"
   ]
  },
  {
   "cell_type": "code",
   "execution_count": null,
   "id": "c2f9afa3",
   "metadata": {},
   "outputs": [],
   "source": [
    "Final_dataset=pd.concat([df,df_preterm],axis=0)\n",
    "Final_dataset.head()"
   ]
  },
  {
   "cell_type": "code",
   "execution_count": null,
   "id": "5c8bad5f",
   "metadata": {},
   "outputs": [],
   "source": [
    "Final_dataset"
   ]
  },
  {
   "cell_type": "code",
   "execution_count": null,
   "id": "882ce150",
   "metadata": {},
   "outputs": [],
   "source": [
    "Final_dataset.shape"
   ]
  },
  {
   "cell_type": "code",
   "execution_count": null,
   "id": "754eda86",
   "metadata": {},
   "outputs": [],
   "source": [
    "X=Final_dataset.drop([\"Term\"],axis=1).values\n",
    "y=Final_dataset.filter([\"Term\"],axis=1).values\n",
    "y=np.array(y)"
   ]
  },
  {
   "cell_type": "markdown",
   "id": "3be81bbf",
   "metadata": {},
   "source": [
    "# Classification:"
   ]
  },
  {
   "cell_type": "markdown",
   "id": "79db050e",
   "metadata": {},
   "source": [
    "We will be using both regression and classification Method. For classification, We'll be using 5 fold cross validating gridsearch. "
   ]
  },
  {
   "cell_type": "markdown",
   "id": "07714627",
   "metadata": {},
   "source": [
    "First we need to see if there is enough variance in the data for unhinged classification or not. For this we're gonna use PCA "
   ]
  },
  {
   "cell_type": "code",
   "execution_count": null,
   "id": "748fdd63",
   "metadata": {},
   "outputs": [],
   "source": [
    "from sklearn.decomposition import PCA \n",
    "pca=PCA(n_components=25,whiten=True)\n",
    "pca.fit(X)"
   ]
  },
  {
   "cell_type": "code",
   "execution_count": null,
   "id": "d812a227",
   "metadata": {},
   "outputs": [],
   "source": [
    "pca.components_"
   ]
  },
  {
   "cell_type": "code",
   "execution_count": null,
   "id": "285882f9",
   "metadata": {},
   "outputs": [],
   "source": [
    "pca.explained_variance_ratio_"
   ]
  },
  {
   "cell_type": "code",
   "execution_count": null,
   "id": "e1dff8aa",
   "metadata": {},
   "outputs": [],
   "source": [
    "#Sree Plot \n",
    "plt.bar(np.arange(1,26),pca.explained_variance_ratio_*100)"
   ]
  },
  {
   "cell_type": "markdown",
   "id": "b30be5e7",
   "metadata": {},
   "source": [
    "#### There is high variance among the data. Hence, it is fit for classification."
   ]
  },
  {
   "cell_type": "code",
   "execution_count": 214,
   "id": "cc813989",
   "metadata": {},
   "outputs": [],
   "source": [
    "from sklearn.linear_model import LinearRegression\n",
    "from sklearn.ensemble import RandomForestClassifier\n",
    "from sklearn.svm import SVC"
   ]
  },
  {
   "cell_type": "code",
   "execution_count": 215,
   "id": "b5745e94",
   "metadata": {},
   "outputs": [],
   "source": [
    "from sklearn.naive_bayes import GaussianNB"
   ]
  },
  {
   "cell_type": "code",
   "execution_count": null,
   "id": "937f3657",
   "metadata": {},
   "outputs": [],
   "source": [
    "model_params={\n",
    "    'Linear_regression':{\n",
    "        'model':LinearRegression(n_jobs=-1),\n",
    "        'params':{\n",
    "        'fit_intercept':[True,False],\n",
    "        'normalize':[True,False]\n",
    "        \n",
    "        }\n",
    "    },\n",
    "    'SVC':{\n",
    "        'model':SVC(),\n",
    "        'params':{\n",
    "            'kernel':['linear','rbf'],\n",
    "            'gamma':['auto','scale']\n",
    "        }\n",
    "    },\n",
    "    'RandomForestClassifier':{\n",
    "        'model':RandomForestClassifier(n_jobs=-1),\n",
    "        'params':{\n",
    "            'n_estimators':[100,200,400],\n",
    "            'max_depth':[10,20],\n",
    "            'min_samples_split':[2,4],\n",
    "            #'max_features':['auto','sqrt']\n",
    "        }\n",
    "    },\n",
    "    'GaussianNB':{\n",
    "        'model':GaussianNB(),\n",
    "        'params':{}\n",
    "    }\n",
    "}"
   ]
  },
  {
   "cell_type": "code",
   "execution_count": 216,
   "id": "c8434387",
   "metadata": {},
   "outputs": [],
   "source": [
    "from sklearn.model_selection import GridSearchCV"
   ]
  },
  {
   "cell_type": "code",
   "execution_count": null,
   "id": "9ff23255",
   "metadata": {},
   "outputs": [],
   "source": []
  },
  {
   "cell_type": "code",
   "execution_count": null,
   "id": "96b97006",
   "metadata": {},
   "outputs": [],
   "source": [
    "scores=[]\n",
    "clf=GridSearchCV(model_params['Linear_regression']['model'],model_params['Linear_regression']['params'],cv=5,return_train_score=False)\n",
    "clf.fit(X,y)\n",
    "scores.append({\n",
    "    'model':'Linear_regression',\n",
    "    'best_score':clf.best_score_,\n",
    "    'best_params':clf.best_params_\n",
    "})"
   ]
  },
  {
   "cell_type": "code",
   "execution_count": null,
   "id": "fb842870",
   "metadata": {},
   "outputs": [],
   "source": [
    "# clf=GridSearchCV(model_params['SVC']['model'],model_params['SVC']['params'],cv=5,return_train_score=False)\n",
    "# clf.fit(X,y)\n",
    "# scores.append({\n",
    "#     'model':'SVC',\n",
    "#     'best_score':clf.best_score_,\n",
    "#     'best_params':clf.best_params_\n",
    "# })"
   ]
  },
  {
   "cell_type": "code",
   "execution_count": null,
   "id": "fe7c822c",
   "metadata": {},
   "outputs": [],
   "source": [
    "# clf=GridSearchCV(model_params['RandomForestClassifier']['model'],model_params['RandomForestClassifier']['params'],cv=5,return_train_score=False)\n",
    "# clf.fit(X,y)\n",
    "# scores.append({\n",
    "#     'model':'RandomForestClassifier',\n",
    "#     'best_score':clf.best_score_,\n",
    "#     'best_params':clf.best_params_\n",
    "# })"
   ]
  },
  {
   "cell_type": "code",
   "execution_count": null,
   "id": "8eff9182",
   "metadata": {},
   "outputs": [],
   "source": [
    "# clf=GridSearchCV(model_params['GaussianNB']['model'],model_params['GaussianNB']['params'],cv=5,return_train_score=False)\n",
    "# clf.fit(X,y)\n",
    "# scores.append({\n",
    "#     'model':'GaussianNB',\n",
    "#     'best_score':clf.best_score_,\n",
    "#     'best_params':clf.best_params_\n",
    "# })"
   ]
  },
  {
   "cell_type": "code",
   "execution_count": null,
   "id": "3186de7e",
   "metadata": {},
   "outputs": [],
   "source": [
    "scores"
   ]
  },
  {
   "cell_type": "code",
   "execution_count": 217,
   "id": "bad84f8b",
   "metadata": {},
   "outputs": [],
   "source": [
    "from sklearn.model_selection import train_test_split\n",
    "\n",
    "X_train,X_test,y_train,y_test=train_test_split(X,y,test_size=0.35)"
   ]
  },
  {
   "cell_type": "code",
   "execution_count": null,
   "id": "75ecba3b",
   "metadata": {},
   "outputs": [],
   "source": [
    "model=RandomForestClassifier(n_estimators=100,max_depth=10,min_samples_split=2,n_jobs=-1)\n",
    "model.fit(X_train,y_train)\n",
    "y_pred=model.predict(X_test)"
   ]
  },
  {
   "cell_type": "code",
   "execution_count": 218,
   "id": "d7795786",
   "metadata": {},
   "outputs": [
    {
     "name": "stdout",
     "output_type": "stream",
     "text": [
      "0.4666666666666667\n"
     ]
    }
   ],
   "source": [
    "from sklearn.metrics import accuracy_score\n",
    "print(accuracy_score(y_pred,y_test))"
   ]
  },
  {
   "cell_type": "code",
   "execution_count": null,
   "id": "19319394",
   "metadata": {},
   "outputs": [],
   "source": [
    "model2=LinearRegression(fit_intercept=True,normalize=True)\n",
    "model2.fit(X_train,y_train)\n",
    "y_pred=model.predict(X_test)"
   ]
  },
  {
   "cell_type": "code",
   "execution_count": 422,
   "id": "5a677317",
   "metadata": {},
   "outputs": [],
   "source": [
    "import joblib"
   ]
  },
  {
   "cell_type": "code",
   "execution_count": 435,
   "id": "75ecd38b",
   "metadata": {},
   "outputs": [
    {
     "data": {
      "text/plain": [
       "['Final_iter2.pkl']"
      ]
     },
     "execution_count": 435,
     "metadata": {},
     "output_type": "execute_result"
    }
   ],
   "source": [
    "joblib.dump(model,\"Final_iter2.pkl\")"
   ]
  },
  {
   "cell_type": "code",
   "execution_count": null,
   "id": "10014131",
   "metadata": {},
   "outputs": [],
   "source": [
    "from sklearn.naive_bayes import GaussianNB"
   ]
  },
  {
   "cell_type": "code",
   "execution_count": null,
   "id": "0e233bc8",
   "metadata": {},
   "outputs": [],
   "source": [
    "GaussianNB()"
   ]
  },
  {
   "cell_type": "code",
   "execution_count": null,
   "id": "1578a45f",
   "metadata": {},
   "outputs": [],
   "source": []
  },
  {
   "cell_type": "code",
   "execution_count": null,
   "id": "a07a144d",
   "metadata": {},
   "outputs": [],
   "source": [
    "!pip install joblib"
   ]
  },
  {
   "cell_type": "code",
   "execution_count": 423,
   "id": "540f1c1e",
   "metadata": {},
   "outputs": [
    {
     "data": {
      "text/plain": [
       "['Random_Forest_model.pkl']"
      ]
     },
     "execution_count": 423,
     "metadata": {},
     "output_type": "execute_result"
    }
   ],
   "source": [
    "joblib.dump(model,\"Random_Forest_model.pkl\")\n"
   ]
  },
  {
   "cell_type": "code",
   "execution_count": null,
   "id": "2fe58cd1",
   "metadata": {},
   "outputs": [],
   "source": [
    "scores"
   ]
  },
  {
   "cell_type": "code",
   "execution_count": null,
   "id": "75cfcf93",
   "metadata": {},
   "outputs": [],
   "source": [
    "Final_dataset.shape"
   ]
  },
  {
   "cell_type": "code",
   "execution_count": null,
   "id": "554ae170",
   "metadata": {},
   "outputs": [],
   "source": [
    "Final_dataset.to_excel('Final_unshaped_dataset.xlsx',index=False)\n",
    "Final_dataset.to_csv('Final_unshaped_dataset.csv',index=False)"
   ]
  },
  {
   "cell_type": "code",
   "execution_count": null,
   "id": "956cab5f",
   "metadata": {},
   "outputs": [],
   "source": [
    "# from flask import Flask, render_template, request\n",
    "# app = Flask(__name__)\n",
    "# model = model2\n",
    "\n",
    "# def preprocess_data(file):\n",
    "#     if file.filename.endswith('.mat'):\n",
    "#         data = spio.loadmat(file)\n",
    "        \n",
    "#         s1=data['val'][1]\n",
    "#         s2=data['val'][3]\n",
    "#         s3=data['val'][5]\n",
    "#         Signal_data=(s1+s2+s3)/3\n",
    "\n",
    "#         lowcut=0.3\n",
    "#         highcut=3\n",
    "#         order=4\n",
    "#         fs=20\n",
    "        \n",
    "#         smoothed_signal=butter_bandpass_filter(Signal_data, lowcut, highcut, fs, order)\n",
    "#         cut_signal=smoothed_signal[(3*60*fs):-(3*60*fs)]\n",
    "\n",
    "#         Signal_feature_data=[]\n",
    "#         signal = cut_signal\n",
    "#         levels = 5\n",
    "\n",
    "#         features = []\n",
    "\n",
    "#         emd = EMD()\n",
    "\n",
    "#         imfs = emd(signal)\n",
    "\n",
    "#         for imf in imfs:\n",
    "#             wpd_coeffs = [] \n",
    "#             for level in range(levels):\n",
    "#                 selected_coeffs = perform_wpd(imf, level)\n",
    "#                 wpd_coeffs.extend(selected_coeffs)\n",
    "\n",
    "#             for coeff in wpd_coeffs:\n",
    "#                 features.append([\n",
    "#                     fractal_dimension(coeff),\n",
    "#                     fuzzy_entropy(coeff),\n",
    "#                     interquartile_range(coeff),\n",
    "#                     mean_absolute_deviation(coeff),\n",
    "#                     mean_energy(coeff),\n",
    "#                     mean_teager_kaiser_energy(coeff),\n",
    "#                     sample_entropy(coeff),\n",
    "#                     standard_deviation(coeff),\n",
    "#                 ])\n",
    "#             Signal_feature_data.append(features)\n",
    "#             processed_data = Signal_feature_data\n",
    "\n",
    "#         return processed_data\n",
    "\n",
    "\n",
    "# @app.route('/', methods=['GET', 'POST'])\n",
    "# def index():\n",
    "#     if request.method == 'POST':\n",
    "#         file = request.files['file']\n",
    "#         if file.filename != '':\n",
    "#             data = preprocess_data(file)\n",
    "#             data = np.array(data).reshape((-1, 1))\n",
    "#             prediction = model.predict(data)\n",
    "#             if prediction == 1:\n",
    "#                 result = \"Term Delivery\"\n",
    "#             else:\n",
    "#                 result = \"Preterm Delivery\"\n",
    "#             return render_template('result.html', result=result)\n",
    "#     return render_template('index.html')\n",
    "\n",
    "\n",
    "\n",
    "# if __name__ == '__main__':\n",
    "#     app.run(debug=False)\n",
    "\n"
   ]
  }
 ],
 "metadata": {
  "kernelspec": {
   "display_name": "Python 3 (ipykernel)",
   "language": "python",
   "name": "python3"
  },
  "language_info": {
   "codemirror_mode": {
    "name": "ipython",
    "version": 3
   },
   "file_extension": ".py",
   "mimetype": "text/x-python",
   "name": "python",
   "nbconvert_exporter": "python",
   "pygments_lexer": "ipython3",
   "version": "3.9.13"
  }
 },
 "nbformat": 4,
 "nbformat_minor": 5
}
